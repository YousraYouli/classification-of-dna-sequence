{
 "cells": [
  {
   "cell_type": "code",
   "execution_count": 31,
   "metadata": {
    "execution": {
     "iopub.execute_input": "2025-05-05T20:19:36.955098Z",
     "iopub.status.busy": "2025-05-05T20:19:36.954001Z",
     "iopub.status.idle": "2025-05-05T20:19:36.959314Z",
     "shell.execute_reply": "2025-05-05T20:19:36.958352Z",
     "shell.execute_reply.started": "2025-05-05T20:19:36.955055Z"
    }
   },
   "outputs": [],
   "source": [
    "import warnings\n",
    "warnings.filterwarnings(\"ignore\")"
   ]
  },
  {
   "cell_type": "code",
   "execution_count": 32,
   "metadata": {
    "execution": {
     "iopub.execute_input": "2025-05-05T20:19:39.706434Z",
     "iopub.status.busy": "2025-05-05T20:19:39.705812Z",
     "iopub.status.idle": "2025-05-05T20:19:39.714481Z",
     "shell.execute_reply": "2025-05-05T20:19:39.713529Z",
     "shell.execute_reply.started": "2025-05-05T20:19:39.706397Z"
    }
   },
   "outputs": [],
   "source": [
    "import math \n",
    "import os\n",
    "from pathlib import Path\n",
    "import random\n",
    "from tempfile import TemporaryDirectory\n",
    "import time\n",
    "\n",
    "from datasets import load_dataset, Dataset\n",
    "import matplotlib.pyplot as plt\n",
    "import numpy as np\n",
    "import pandas as pd\n",
    "from sklearn.model_selection import train_test_split\n",
    "from sklearn.metrics import classification_report, confusion_matrix, ConfusionMatrixDisplay\n",
    "from sklearn.metrics import f1_score, precision_score, recall_score, accuracy_score\n",
    "import torch\n",
    "from torch import nn, Tensor\n",
    "import torch.nn.functional as F\n",
    "from torch.nn import TransformerEncoder, TransformerEncoderLayer\n",
    "from torch.nn.utils.rnn import pad_sequence\n",
    "import torch.optim as optim\n",
    "from torch.utils.data import Dataset, DataLoader\n",
    "from transformers.models.gpt2.tokenization_gpt2 import bytes_to_unicode\n",
    "from transformers import DataCollatorWithPadding\n",
    "from transformers import BertConfig, BertForSequenceClassification, PreTrainedTokenizerFast\n",
    "from transformers import Trainer, TrainingArguments, EarlyStoppingCallback\n",
    "from tokenizers import normalizers\n",
    "from tokenizers.decoders import ByteLevel as ByteLevelDecoder\n",
    "from tokenizers.normalizers import NFD, Lowercase, NFKC\n",
    "from tokenizers import pre_tokenizers\n",
    "from tokenizers.pre_tokenizers import Whitespace, ByteLevel\n",
    "from tokenizers import Tokenizer, models, trainers\n",
    "from tqdm.auto import tqdm"
   ]
  },
  {
   "cell_type": "code",
   "execution_count": 33,
   "metadata": {
    "execution": {
     "iopub.execute_input": "2025-05-05T20:19:40.096823Z",
     "iopub.status.busy": "2025-05-05T20:19:40.096480Z",
     "iopub.status.idle": "2025-05-05T20:19:40.101633Z",
     "shell.execute_reply": "2025-05-05T20:19:40.100516Z",
     "shell.execute_reply.started": "2025-05-05T20:19:40.096794Z"
    }
   },
   "outputs": [],
   "source": [
    "os.environ[\"WANDB_DISABLED\"] = str(\"true\")\n",
    "os.environ[\"TOKENIZERS_PARALLELISM\"] = str(\"true\")"
   ]
  },
  {
   "cell_type": "markdown",
   "metadata": {},
   "source": [
    "There is no description about the dataset. But I like it, since it contains of 3 datasets (human, dog, chimpanzee). Each datasets has a dna sequence and 7 possible classes. Each dna sequence is describes by the nucleotides A (adenine) C (cytosine) G (guanine) T (thymine). N also occurs in the dataset and specifics non-dertermined nucleotides. Please have a look for the dataset introduction [here](https://www.kaggle.com/code/tarunsolanki/classifying-dna-sequence-using-ml). \n",
    "\n",
    "This notebook is part of a small work project. Please have a look at [part 1](https://www.kaggle.com/steffenhaeussler/dna-sequence-classification-part-1/) , [part 2](https://www.kaggle.com/steffenhaeussler/dna-sequence-classification-part-2) and [part 4](https://www.kaggle.com/steffenhaeussler/dna-sequence-classification-part-4). In this part, I will use a huggingface implemented  TransformerEncoder network. This doesn't make much sense here, since the sequence length is too big for a transformer. But I picked this dataset as an example and want to compare it with other methods. Iwant to implement a Transformer from scratch (part 4) and need an implementation to compare my results. "
   ]
  },
  {
   "cell_type": "markdown",
   "metadata": {},
   "source": [
    "## Data preparation"
   ]
  },
  {
   "cell_type": "code",
   "execution_count": 34,
   "metadata": {
    "execution": {
     "iopub.execute_input": "2025-05-05T20:19:40.823911Z",
     "iopub.status.busy": "2025-05-05T20:19:40.823063Z",
     "iopub.status.idle": "2025-05-05T20:19:40.828317Z",
     "shell.execute_reply": "2025-05-05T20:19:40.827282Z",
     "shell.execute_reply.started": "2025-05-05T20:19:40.823873Z"
    }
   },
   "outputs": [],
   "source": [
    "def clean_text(examples):\n",
    "    examples = examples[\"text\"].split(\"\\t\")\n",
    "    return {\"text\": examples[0], \"label\": examples[1]}"
   ]
  },
  {
   "cell_type": "markdown",
   "metadata": {},
   "source": [
    "We need to create the dataset from the text file and also, remove the first line."
   ]
  },
  {
   "cell_type": "code",
   "execution_count": 35,
   "metadata": {
    "execution": {
     "iopub.execute_input": "2025-05-05T20:19:41.194109Z",
     "iopub.status.busy": "2025-05-05T20:19:41.193246Z",
     "iopub.status.idle": "2025-05-05T20:19:41.740479Z",
     "shell.execute_reply": "2025-05-05T20:19:41.739363Z",
     "shell.execute_reply.started": "2025-05-05T20:19:41.194073Z"
    }
   },
   "outputs": [
    {
     "data": {
      "application/vnd.jupyter.widget-view+json": {
       "model_id": "232d98567c47450b9f102c464dc4a96e",
       "version_major": 2,
       "version_minor": 0
      },
      "text/plain": [
       "  0%|          | 0/4380 [00:00<?, ?ex/s]"
      ]
     },
     "metadata": {},
     "output_type": "display_data"
    }
   ],
   "source": [
    "dataset = load_dataset(\"text\", data_files=\"/kaggle/input/dna-sequence-dataset/human.txt\", \n",
    "                       split=\"train[1:]\", \n",
    "                       streaming=False)\n",
    "\n",
    "dataset = dataset.map(clean_text)\n",
    "n_classes = len(set(dataset['label']))"
   ]
  },
  {
   "cell_type": "markdown",
   "metadata": {},
   "source": [
    "I'm not sure, if the datasets library will allow stratified splits. Here I create a train - val - test dataset."
   ]
  },
  {
   "cell_type": "code",
   "execution_count": 36,
   "metadata": {
    "execution": {
     "iopub.execute_input": "2025-05-05T20:19:41.742332Z",
     "iopub.status.busy": "2025-05-05T20:19:41.742004Z",
     "iopub.status.idle": "2025-05-05T20:19:41.969821Z",
     "shell.execute_reply": "2025-05-05T20:19:41.969039Z",
     "shell.execute_reply.started": "2025-05-05T20:19:41.742303Z"
    }
   },
   "outputs": [],
   "source": [
    "seed=83110\n",
    "split = [0.8, 0.1, 0.1]\n",
    "\n",
    "data = pd.DataFrame(dataset)\n",
    "\n",
    "X_train, X_test, y_train, y_test = train_test_split(\n",
    "    data['text'],\n",
    "    data['label'],\n",
    "    test_size=split[1],\n",
    "    train_size=1-split[1],\n",
    "    random_state=seed,\n",
    "    shuffle=True,\n",
    "    stratify=data['label'],\n",
    ")\n",
    "\n",
    "n_ratio = X_test.shape[0]/X_train.shape[0]\n",
    "\n",
    "X_train, X_val, y_train, y_val = train_test_split(\n",
    "    X_train,\n",
    "    y_train,\n",
    "    test_size=n_ratio,\n",
    "    train_size=1-n_ratio,\n",
    "    random_state=seed,\n",
    "    shuffle=True,\n",
    "    stratify=y_train,\n",
    ")"
   ]
  },
  {
   "cell_type": "code",
   "execution_count": 37,
   "metadata": {
    "execution": {
     "iopub.execute_input": "2025-05-05T20:19:45.393103Z",
     "iopub.status.busy": "2025-05-05T20:19:45.392350Z",
     "iopub.status.idle": "2025-05-05T20:19:45.398294Z",
     "shell.execute_reply": "2025-05-05T20:19:45.397197Z",
     "shell.execute_reply.started": "2025-05-05T20:19:45.393064Z"
    }
   },
   "outputs": [
    {
     "name": "stdout",
     "output_type": "stream",
     "text": [
      "3504 438 438\n"
     ]
    }
   ],
   "source": [
    "print(X_train.shape[0], X_val.shape[0], X_test.shape[0])"
   ]
  },
  {
   "cell_type": "markdown",
   "metadata": {},
   "source": [
    "Out of convenience, we store the splits as csv files. I also run into some numpy conversion errors with the datasets library and this just works."
   ]
  },
  {
   "cell_type": "code",
   "execution_count": 38,
   "metadata": {
    "execution": {
     "iopub.execute_input": "2025-05-05T20:19:46.246370Z",
     "iopub.status.busy": "2025-05-05T20:19:46.245602Z",
     "iopub.status.idle": "2025-05-05T20:19:46.369855Z",
     "shell.execute_reply": "2025-05-05T20:19:46.368640Z",
     "shell.execute_reply.started": "2025-05-05T20:19:46.246336Z"
    }
   },
   "outputs": [],
   "source": [
    "pd.DataFrame({\"text\": X_train, \"label\": y_train}).to_csv(\"/kaggle/working/train.csv\", index=False)\n",
    "pd.DataFrame({\"text\": X_val, \"label\": y_val}).to_csv(\"/kaggle/working/val.csv\", index=False)\n",
    "pd.DataFrame({\"text\": X_test, \"label\": y_test}).to_csv(\"/kaggle/working/test.csv\", index=False)"
   ]
  },
  {
   "cell_type": "code",
   "execution_count": 39,
   "metadata": {
    "execution": {
     "iopub.execute_input": "2025-05-05T20:19:46.709969Z",
     "iopub.status.busy": "2025-05-05T20:19:46.709604Z",
     "iopub.status.idle": "2025-05-05T20:19:47.180850Z",
     "shell.execute_reply": "2025-05-05T20:19:47.179800Z",
     "shell.execute_reply.started": "2025-05-05T20:19:46.709939Z"
    }
   },
   "outputs": [
    {
     "name": "stdout",
     "output_type": "stream",
     "text": [
      "Downloading and preparing dataset csv/default to /root/.cache/huggingface/datasets/csv/default-d0a8a5fa0d01b167/0.0.0/433e0ccc46f9880962cc2b12065189766fbb2bee57a221866138fb9203c83519...\n"
     ]
    },
    {
     "data": {
      "application/vnd.jupyter.widget-view+json": {
       "model_id": "b219568d6cbf49f1bac76ad9fd2f828d",
       "version_major": 2,
       "version_minor": 0
      },
      "text/plain": [
       "Downloading data files:   0%|          | 0/3 [00:00<?, ?it/s]"
      ]
     },
     "metadata": {},
     "output_type": "display_data"
    },
    {
     "data": {
      "application/vnd.jupyter.widget-view+json": {
       "model_id": "775c4c26c0054076afe363983c445e4a",
       "version_major": 2,
       "version_minor": 0
      },
      "text/plain": [
       "Extracting data files:   0%|          | 0/3 [00:00<?, ?it/s]"
      ]
     },
     "metadata": {},
     "output_type": "display_data"
    },
    {
     "name": "stdout",
     "output_type": "stream",
     "text": [
      "Dataset csv downloaded and prepared to /root/.cache/huggingface/datasets/csv/default-d0a8a5fa0d01b167/0.0.0/433e0ccc46f9880962cc2b12065189766fbb2bee57a221866138fb9203c83519. Subsequent calls will reuse this data.\n"
     ]
    },
    {
     "data": {
      "application/vnd.jupyter.widget-view+json": {
       "model_id": "0d38af6d442e4980a2663588c6be664c",
       "version_major": 2,
       "version_minor": 0
      },
      "text/plain": [
       "  0%|          | 0/3 [00:00<?, ?it/s]"
      ]
     },
     "metadata": {},
     "output_type": "display_data"
    }
   ],
   "source": [
    "dataset = load_dataset(\"csv\", data_files={'train': [\"/kaggle/working/train.csv\"],\n",
    "                                          'val': [\"/kaggle/working/val.csv\"],\n",
    "                                         'test': [\"/kaggle/working/test.csv\"],\n",
    "                                         },\n",
    "                      split=None)"
   ]
  },
  {
   "cell_type": "markdown",
   "metadata": {},
   "source": [
    "## Tokenizer"
   ]
  },
  {
   "cell_type": "markdown",
   "metadata": {},
   "source": [
    "The transformers library is quite handy. Setting up a tokenizer is not really needed, but since I have already the code and the overhead is not that big, I just go for it."
   ]
  },
  {
   "cell_type": "code",
   "execution_count": 40,
   "metadata": {
    "execution": {
     "iopub.execute_input": "2025-05-05T20:19:50.252385Z",
     "iopub.status.busy": "2025-05-05T20:19:50.251650Z",
     "iopub.status.idle": "2025-05-05T20:19:50.257748Z",
     "shell.execute_reply": "2025-05-05T20:19:50.256616Z",
     "shell.execute_reply.started": "2025-05-05T20:19:50.252351Z"
    }
   },
   "outputs": [],
   "source": [
    "tokenizer = Tokenizer(models.BPE())\n",
    "\n",
    "tokenizer.normalizer = normalizers.Sequence([\n",
    "    NFD(),\n",
    "])\n",
    "\n",
    "# Our tokenizer also needs a pre-tokenizer responsible for converting the input to a ByteLevel representation.\n",
    "tokenizer.pre_tokenizer = pre_tokenizers.Sequence([\n",
    "                                        ByteLevel(add_prefix_space=False), \n",
    "                                        Whitespace()\n",
    "                                        ])\n",
    "\n",
    "tokenizer.decoder = ByteLevelDecoder()"
   ]
  },
  {
   "cell_type": "markdown",
   "metadata": {},
   "source": [
    "We have to deal only with 5 characters."
   ]
  },
  {
   "cell_type": "code",
   "execution_count": 41,
   "metadata": {
    "execution": {
     "iopub.execute_input": "2025-05-05T20:19:51.276883Z",
     "iopub.status.busy": "2025-05-05T20:19:51.276516Z",
     "iopub.status.idle": "2025-05-05T20:19:51.282505Z",
     "shell.execute_reply": "2025-05-05T20:19:51.281481Z",
     "shell.execute_reply.started": "2025-05-05T20:19:51.276850Z"
    }
   },
   "outputs": [
    {
     "name": "stdout",
     "output_type": "stream",
     "text": [
      "Size of our base vocabulary: 5\n"
     ]
    }
   ],
   "source": [
    "base_vocab = [\"A\", \"C\", \"G\", \"T\", \"N\"]\n",
    "print(f'Size of our base vocabulary: {len(base_vocab)}')"
   ]
  },
  {
   "cell_type": "markdown",
   "metadata": {},
   "source": [
    "And with the vocab_size of 10, I will make sure, that we only use the base vocabulary. The other 5 items in the vocab are the special tokens. A small experiment for the future will be a bigger vocab size and how it affects the model performance. My assumption is, that the performance should improve a lot, since we are able to use more information in our training."
   ]
  },
  {
   "cell_type": "code",
   "execution_count": 42,
   "metadata": {
    "execution": {
     "iopub.execute_input": "2025-05-05T20:19:54.367984Z",
     "iopub.status.busy": "2025-05-05T20:19:54.367100Z",
     "iopub.status.idle": "2025-05-05T20:19:54.372523Z",
     "shell.execute_reply": "2025-05-05T20:19:54.371545Z",
     "shell.execute_reply.started": "2025-05-05T20:19:54.367946Z"
    }
   },
   "outputs": [],
   "source": [
    "vocab_size=10\n",
    "\n",
    "trainer = trainers.BpeTrainer(vocab_size=vocab_size, \n",
    "                              show_progress=True, \n",
    "                              initial_alphabet=base_vocab,\n",
    "                              special_tokens=[\"[UNK]\", \"[CLS]\", \"[SEP]\", \"[PAD]\", \"[MASK]\"])\n"
   ]
  },
  {
   "cell_type": "code",
   "execution_count": 43,
   "metadata": {
    "execution": {
     "iopub.execute_input": "2025-05-05T20:19:54.741461Z",
     "iopub.status.busy": "2025-05-05T20:19:54.741083Z",
     "iopub.status.idle": "2025-05-05T20:19:54.747247Z",
     "shell.execute_reply": "2025-05-05T20:19:54.746225Z",
     "shell.execute_reply.started": "2025-05-05T20:19:54.741428Z"
    }
   },
   "outputs": [],
   "source": [
    "iter_dataset = iter(dataset['train'])\n",
    "\n",
    "def batch_iterator(batch_size=10):\n",
    "    for _ in tqdm(range(0, round(len(dataset['train']),-1), batch_size)):\n",
    "        yield [next(iter_dataset)['text'] for _ in range(batch_size)]"
   ]
  },
  {
   "cell_type": "code",
   "execution_count": 44,
   "metadata": {
    "execution": {
     "iopub.execute_input": "2025-05-05T20:19:55.344765Z",
     "iopub.status.busy": "2025-05-05T20:19:55.343770Z",
     "iopub.status.idle": "2025-05-05T20:19:56.773276Z",
     "shell.execute_reply": "2025-05-05T20:19:56.772195Z",
     "shell.execute_reply.started": "2025-05-05T20:19:55.344717Z"
    }
   },
   "outputs": [
    {
     "data": {
      "application/vnd.jupyter.widget-view+json": {
       "model_id": "9a1be13063cd478d9fab4084ad31f9ca",
       "version_major": 2,
       "version_minor": 0
      },
      "text/plain": [
       "  0%|          | 0/350 [00:00<?, ?it/s]"
      ]
     },
     "metadata": {},
     "output_type": "display_data"
    },
    {
     "name": "stdout",
     "output_type": "stream",
     "text": [
      "\n",
      "\n",
      "\n"
     ]
    }
   ],
   "source": [
    "tokenizer.train_from_iterator(batch_iterator(), trainer=trainer)"
   ]
  },
  {
   "cell_type": "markdown",
   "metadata": {},
   "source": [
    "A small test and the encoder does, what it should do. It encodes every character. Again, this can be solved with an one-liner."
   ]
  },
  {
   "cell_type": "code",
   "execution_count": 45,
   "metadata": {
    "execution": {
     "iopub.execute_input": "2025-05-05T20:20:00.585817Z",
     "iopub.status.busy": "2025-05-05T20:20:00.584968Z",
     "iopub.status.idle": "2025-05-05T20:20:00.591017Z",
     "shell.execute_reply": "2025-05-05T20:20:00.589886Z",
     "shell.execute_reply.started": "2025-05-05T20:20:00.585780Z"
    }
   },
   "outputs": [
    {
     "name": "stdout",
     "output_type": "stream",
     "text": [
      "['A', 'T', 'G', 'C', 'C', 'C', 'C', 'A', 'A', 'C', 'T', 'A', 'A', 'A', 'T', 'A', 'C', 'T', 'A', 'C', 'C', 'G', 'T', 'A', 'T', 'G', 'G', 'C', 'C', 'C', 'A', 'C', 'C', 'A', 'T', 'A', 'A', 'T', 'T', 'A', 'C', 'C', 'C', 'C', 'C', 'A']\n",
      "[5, 9, 7, 6, 6, 6, 6, 5, 5, 6, 9, 5, 5, 5, 9, 5, 6, 9, 5, 6, 6, 7, 9, 5, 9, 7, 7, 6, 6, 6, 5, 6, 6, 5, 9, 5, 5, 9, 9, 5, 6, 6, 6, 6, 6, 5]\n"
     ]
    }
   ],
   "source": [
    "output = tokenizer.encode(\"ATGCCCCAACTAAATACTACCGTATGGCCCACCATAATTACCCCCA\")\n",
    "print(output.tokens)\n",
    "print(output.ids)\n"
   ]
  },
  {
   "cell_type": "code",
   "execution_count": 46,
   "metadata": {
    "execution": {
     "iopub.execute_input": "2025-05-05T20:20:03.597627Z",
     "iopub.status.busy": "2025-05-05T20:20:03.596918Z",
     "iopub.status.idle": "2025-05-05T20:20:03.601988Z",
     "shell.execute_reply": "2025-05-05T20:20:03.601033Z",
     "shell.execute_reply.started": "2025-05-05T20:20:03.597591Z"
    }
   },
   "outputs": [],
   "source": [
    "tokenizer.save(f\"/kaggle/working/tokenizer.json\")"
   ]
  },
  {
   "cell_type": "code",
   "execution_count": 47,
   "metadata": {
    "execution": {
     "iopub.execute_input": "2025-05-05T20:20:04.044716Z",
     "iopub.status.busy": "2025-05-05T20:20:04.043985Z",
     "iopub.status.idle": "2025-05-05T20:20:04.052303Z",
     "shell.execute_reply": "2025-05-05T20:20:04.051287Z",
     "shell.execute_reply.started": "2025-05-05T20:20:04.044683Z"
    }
   },
   "outputs": [
    {
     "data": {
      "text/plain": [
       "0"
      ]
     },
     "execution_count": 47,
     "metadata": {},
     "output_type": "execute_result"
    }
   ],
   "source": [
    "tk_tokenizer = Tokenizer.from_file(f\"/kaggle/working/tokenizer.json\")\n",
    "tokenizer = PreTrainedTokenizerFast(tokenizer_object=tk_tokenizer)\n",
    "\n",
    "tokenizer.add_special_tokens({'pad_token': \"[PAD]\",\n",
    "                              'unk_token': \"[UNK]\",\n",
    "                              'sep_token': \"[SEP]\",\n",
    "                              'cls_token': \"[CLS]\",\n",
    "                              'bos_token': \"[CLS]\",\n",
    "                              'eos_token': \"[SEP]\",\n",
    "                              'mask_token': \"[MASK]\"\n",
    "                             })"
   ]
  },
  {
   "cell_type": "markdown",
   "metadata": {},
   "source": [
    "## Data"
   ]
  },
  {
   "cell_type": "code",
   "execution_count": 48,
   "metadata": {
    "execution": {
     "iopub.execute_input": "2025-05-05T20:20:06.765353Z",
     "iopub.status.busy": "2025-05-05T20:20:06.764969Z",
     "iopub.status.idle": "2025-05-05T20:20:06.769882Z",
     "shell.execute_reply": "2025-05-05T20:20:06.768849Z",
     "shell.execute_reply.started": "2025-05-05T20:20:06.765321Z"
    }
   },
   "outputs": [],
   "source": [
    "max_length=256"
   ]
  },
  {
   "cell_type": "markdown",
   "metadata": {},
   "source": [
    "The dataset is small, so we can tokenize the dna sequence before and keep it in memory. We also need to truncate and pad our dna sequence. The dna sequences are much longer than it could be processed with a transformer model."
   ]
  },
  {
   "cell_type": "code",
   "execution_count": 49,
   "metadata": {
    "execution": {
     "iopub.execute_input": "2025-05-05T20:20:07.716541Z",
     "iopub.status.busy": "2025-05-05T20:20:07.715717Z",
     "iopub.status.idle": "2025-05-05T20:20:07.720693Z",
     "shell.execute_reply": "2025-05-05T20:20:07.719625Z",
     "shell.execute_reply.started": "2025-05-05T20:20:07.716508Z"
    }
   },
   "outputs": [],
   "source": [
    "def preprocess_function(examples):\n",
    "    return tokenizer(examples['text'], truncation=True, max_length=max_length)"
   ]
  },
  {
   "cell_type": "code",
   "execution_count": 50,
   "metadata": {
    "execution": {
     "iopub.execute_input": "2025-05-05T20:20:08.128734Z",
     "iopub.status.busy": "2025-05-05T20:20:08.128027Z",
     "iopub.status.idle": "2025-05-05T20:20:09.920027Z",
     "shell.execute_reply": "2025-05-05T20:20:09.919258Z",
     "shell.execute_reply.started": "2025-05-05T20:20:08.128696Z"
    }
   },
   "outputs": [
    {
     "data": {
      "application/vnd.jupyter.widget-view+json": {
       "model_id": "d053f12d5c3e4ce4847e1f7d25e2bac5",
       "version_major": 2,
       "version_minor": 0
      },
      "text/plain": [
       "  0%|          | 0/4 [00:00<?, ?ba/s]"
      ]
     },
     "metadata": {},
     "output_type": "display_data"
    },
    {
     "data": {
      "application/vnd.jupyter.widget-view+json": {
       "model_id": "62d184e43f7f4fe28e0d2881abedfe13",
       "version_major": 2,
       "version_minor": 0
      },
      "text/plain": [
       "  0%|          | 0/1 [00:00<?, ?ba/s]"
      ]
     },
     "metadata": {},
     "output_type": "display_data"
    },
    {
     "data": {
      "application/vnd.jupyter.widget-view+json": {
       "model_id": "41de7e581f974fbbb0a53e38b7b161ce",
       "version_major": 2,
       "version_minor": 0
      },
      "text/plain": [
       "  0%|          | 0/1 [00:00<?, ?ba/s]"
      ]
     },
     "metadata": {},
     "output_type": "display_data"
    }
   ],
   "source": [
    "tokenized_ds = dataset.map(preprocess_function, batched=True)\n",
    "\n",
    "tokenized_ds = tokenized_ds.with_format(\"torch\")\n",
    "\n",
    "data_collator = DataCollatorWithPadding(tokenizer, pad_to_multiple_of=max_length)\n"
   ]
  },
  {
   "cell_type": "code",
   "execution_count": 51,
   "metadata": {
    "execution": {
     "iopub.execute_input": "2025-05-05T20:20:10.330290Z",
     "iopub.status.busy": "2025-05-05T20:20:10.329919Z",
     "iopub.status.idle": "2025-05-05T20:20:10.336666Z",
     "shell.execute_reply": "2025-05-05T20:20:10.335522Z",
     "shell.execute_reply.started": "2025-05-05T20:20:10.330258Z"
    }
   },
   "outputs": [
    {
     "data": {
      "text/plain": [
       "DatasetDict({\n",
       "    train: Dataset({\n",
       "        features: ['text', 'label', 'input_ids', 'token_type_ids', 'attention_mask'],\n",
       "        num_rows: 3504\n",
       "    })\n",
       "    val: Dataset({\n",
       "        features: ['text', 'label', 'input_ids', 'token_type_ids', 'attention_mask'],\n",
       "        num_rows: 438\n",
       "    })\n",
       "    test: Dataset({\n",
       "        features: ['text', 'label', 'input_ids', 'token_type_ids', 'attention_mask'],\n",
       "        num_rows: 438\n",
       "    })\n",
       "})"
      ]
     },
     "execution_count": 51,
     "metadata": {},
     "output_type": "execute_result"
    }
   ],
   "source": [
    "tokenized_ds"
   ]
  },
  {
   "cell_type": "markdown",
   "metadata": {},
   "source": [
    "## Model"
   ]
  },
  {
   "cell_type": "markdown",
   "metadata": {},
   "source": [
    "We create a small text classification model for fast iteration. This is playing around, just to see, how well we can perform on a subset of the dna sequence."
   ]
  },
  {
   "cell_type": "code",
   "execution_count": 52,
   "metadata": {
    "execution": {
     "iopub.execute_input": "2025-05-05T20:20:14.415058Z",
     "iopub.status.busy": "2025-05-05T20:20:14.414340Z",
     "iopub.status.idle": "2025-05-05T20:20:14.419566Z",
     "shell.execute_reply": "2025-05-05T20:20:14.418559Z",
     "shell.execute_reply.started": "2025-05-05T20:20:14.415025Z"
    }
   },
   "outputs": [],
   "source": [
    "max_position_embeddings = 512\n",
    "hidden_size = 768\n",
    "num_hidden_layers = 2 #12\n",
    "num_attention_heads = 4 # 12\n",
    "intermediate_size = 3072\n",
    "drop_out = 0.1\n",
    "\n",
    "model_path = \"/kaggle/working/model\""
   ]
  },
  {
   "cell_type": "code",
   "execution_count": 53,
   "metadata": {
    "execution": {
     "iopub.execute_input": "2025-05-05T20:20:14.922242Z",
     "iopub.status.busy": "2025-05-05T20:20:14.921350Z",
     "iopub.status.idle": "2025-05-05T20:20:14.930922Z",
     "shell.execute_reply": "2025-05-05T20:20:14.929752Z",
     "shell.execute_reply.started": "2025-05-05T20:20:14.922180Z"
    }
   },
   "outputs": [],
   "source": [
    "config = BertConfig(\n",
    "    num_labels=n_classes,\n",
    "    # mask_token_id = 4,\n",
    "    bos_token_id = 1,                          \n",
    "    sep_token_id = 2,                          \n",
    "    #  pad_token_id = 3,\n",
    "    eos_token_id = 2,\n",
    "\n",
    "    max_position_embeddings = max_position_embeddings,\n",
    "\n",
    "    hidden_size = hidden_size,                          \n",
    "    num_hidden_layers = num_hidden_layers,                          \n",
    "    num_attention_heads = num_attention_heads,                          \n",
    "    intermediate_size = intermediate_size,\n",
    "\n",
    "    hidden_act = 'gelu',\n",
    "    hidden_dropout_prob = drop_out,\n",
    "    attention_probs_dropout_prob = drop_out,\n",
    "\n",
    "    type_vocab_size = 2,\n",
    "    initializer_range = 0.02,\n",
    "    layer_norm_eps = 1e-12, \n",
    "\n",
    "    vocab_size = vocab_size,\n",
    "\n",
    "    use_cache = True,                          \n",
    "    classifier_dropout = None,\n",
    "    onnx_export = False)"
   ]
  },
  {
   "cell_type": "markdown",
   "metadata": {},
   "source": [
    "Setting up the classification model and it only has 15 million parameters. This is the effect of the small vocab_size and attention dimension of 256."
   ]
  },
  {
   "cell_type": "code",
   "execution_count": 54,
   "metadata": {
    "execution": {
     "iopub.execute_input": "2025-05-05T20:20:17.858596Z",
     "iopub.status.busy": "2025-05-05T20:20:17.857742Z",
     "iopub.status.idle": "2025-05-05T20:20:18.107102Z",
     "shell.execute_reply": "2025-05-05T20:20:18.106109Z",
     "shell.execute_reply.started": "2025-05-05T20:20:17.858557Z"
    }
   },
   "outputs": [
    {
     "name": "stdout",
     "output_type": "stream",
     "text": [
      "n of parameters: 15_175_687\n"
     ]
    }
   ],
   "source": [
    "model = BertForSequenceClassification(config=config)\n",
    "print(f\"n of parameters: {model.num_parameters():_}\")"
   ]
  },
  {
   "cell_type": "markdown",
   "metadata": {},
   "source": [
    "## Model training"
   ]
  },
  {
   "cell_type": "markdown",
   "metadata": {},
   "source": [
    "Basic BERT training parameters. We don't have much data, so I set up the epoch to 50. Also, increasing the learning_rate didn't help."
   ]
  },
  {
   "cell_type": "code",
   "execution_count": 86,
   "metadata": {
    "execution": {
     "iopub.execute_input": "2025-05-05T20:40:15.619063Z",
     "iopub.status.busy": "2025-05-05T20:40:15.618324Z",
     "iopub.status.idle": "2025-05-05T20:40:15.624345Z",
     "shell.execute_reply": "2025-05-05T20:40:15.623202Z",
     "shell.execute_reply.started": "2025-05-05T20:40:15.619030Z"
    }
   },
   "outputs": [],
   "source": [
    "learning_rate = 1e-4 # bert\n",
    "weight_decay = 0.9 # bert\n",
    "lr_scheduler_type = \"linear\"\n",
    "\n",
    "num_train_epochs = 50 # 5 but training set is small\n",
    "\n",
    "train_batch_size = 32\n",
    "eval_batch_size = 32\n",
    "\n",
    "gradient_accumulation_steps=2\n",
    "eval_accumulation_steps=2\n",
    "\n",
    "warmup_steps = 0\n",
    "\n",
    "adam_beta1 = 0.9 # bert\n",
    "adam_beta2 = 0.999 # bert\n",
    "adam_epsilon = 1e-8 # bert\n",
    "max_grad_norm = 1.0 # bert"
   ]
  },
  {
   "cell_type": "code",
   "execution_count": 87,
   "metadata": {
    "execution": {
     "iopub.execute_input": "2025-05-05T20:40:16.130903Z",
     "iopub.status.busy": "2025-05-05T20:40:16.129326Z",
     "iopub.status.idle": "2025-05-05T20:40:16.137335Z",
     "shell.execute_reply": "2025-05-05T20:40:16.136260Z",
     "shell.execute_reply.started": "2025-05-05T20:40:16.130864Z"
    }
   },
   "outputs": [],
   "source": [
    "training_args = TrainingArguments(\n",
    "    output_dir=model_path,\n",
    "    overwrite_output_dir=True,\n",
    "\n",
    "    learning_rate=learning_rate,\n",
    "    weight_decay=weight_decay,\n",
    "    lr_scheduler_type=lr_scheduler_type,\n",
    "    num_train_epochs=num_train_epochs,\n",
    "    adam_beta1=adam_beta1,\n",
    "    adam_beta2=adam_beta2,\n",
    "    adam_epsilon=adam_epsilon,\n",
    "    max_grad_norm=max_grad_norm,\n",
    "    \n",
    "    evaluation_strategy=\"epoch\",\n",
    "    \n",
    "    per_device_train_batch_size=train_batch_size, # depends on memory\n",
    "    per_device_eval_batch_size=eval_batch_size,\n",
    "        \n",
    "    gradient_accumulation_steps=gradient_accumulation_steps,\n",
    "#     eval_accumulation_steps=eval_accumulation_steps,\n",
    "\n",
    "    save_strategy=\"epoch\",\n",
    "    save_total_limit=3,\n",
    "    \n",
    "    prediction_loss_only=False,\n",
    "    report_to=\"tensorboard\",\n",
    "\n",
    "    log_level=\"warning\",\n",
    "    logging_strategy=\"epoch\",\n",
    "    \n",
    "    fp16 = True,\n",
    "    fp16_full_eval=True,\n",
    "    \n",
    "    load_best_model_at_end=True,\n",
    "    metric_for_best_model=\"loss\",\n",
    "    greater_is_better=False,\n",
    "    \n",
    "    push_to_hub=False,\n",
    "    dataloader_pin_memory=True,\n",
    ")\n"
   ]
  },
  {
   "cell_type": "code",
   "execution_count": 88,
   "metadata": {
    "execution": {
     "iopub.execute_input": "2025-05-05T20:40:16.608153Z",
     "iopub.status.busy": "2025-05-05T20:40:16.607794Z",
     "iopub.status.idle": "2025-05-05T20:40:16.614006Z",
     "shell.execute_reply": "2025-05-05T20:40:16.612899Z",
     "shell.execute_reply.started": "2025-05-05T20:40:16.608121Z"
    }
   },
   "outputs": [],
   "source": [
    "def compute_metrics(eval_pred):\n",
    "    logits, labels = eval_pred\n",
    "    predictions = np.argmax(logits, axis=-1)\n",
    "    accuracy = accuracy_score(y_true=labels, y_pred=predictions)\n",
    "    recall = recall_score(y_true=labels, y_pred=predictions, average='weighted')\n",
    "    precision = precision_score(y_true=labels, y_pred=predictions, average='weighted')\n",
    "    f1 = f1_score(y_true=labels, y_pred=predictions, average='weighted')    \n",
    "    return {\"accuracy\": accuracy, \"precision\": precision, \"recall\": recall, \"f1\": f1}"
   ]
  },
  {
   "cell_type": "code",
   "execution_count": 89,
   "metadata": {
    "execution": {
     "iopub.execute_input": "2025-05-05T20:40:17.077883Z",
     "iopub.status.busy": "2025-05-05T20:40:17.076879Z",
     "iopub.status.idle": "2025-05-05T20:40:17.085261Z",
     "shell.execute_reply": "2025-05-05T20:40:17.083786Z",
     "shell.execute_reply.started": "2025-05-05T20:40:17.077803Z"
    }
   },
   "outputs": [],
   "source": [
    "early_stopping = EarlyStoppingCallback(early_stopping_patience = 3,\n",
    "                                       early_stopping_threshold = 0.02)\n",
    "\n",
    "callbacks = [early_stopping]"
   ]
  },
  {
   "cell_type": "code",
   "execution_count": 90,
   "metadata": {
    "execution": {
     "iopub.execute_input": "2025-05-05T20:40:17.454199Z",
     "iopub.status.busy": "2025-05-05T20:40:17.453497Z",
     "iopub.status.idle": "2025-05-05T20:40:17.460572Z",
     "shell.execute_reply": "2025-05-05T20:40:17.459470Z",
     "shell.execute_reply.started": "2025-05-05T20:40:17.454167Z"
    }
   },
   "outputs": [],
   "source": [
    "trainer = Trainer(\n",
    "    model=model,\n",
    "    args=training_args,\n",
    "    data_collator=data_collator,\n",
    "    train_dataset=tokenized_ds['train'],\n",
    "    eval_dataset=tokenized_ds['val'],\n",
    "    compute_metrics=compute_metrics,\n",
    "    tokenizer=tokenizer,\n",
    "    callbacks=callbacks\n",
    ")\n"
   ]
  },
  {
   "cell_type": "code",
   "execution_count": 91,
   "metadata": {
    "execution": {
     "iopub.execute_input": "2025-05-05T20:40:20.677691Z",
     "iopub.status.busy": "2025-05-05T20:40:20.676761Z",
     "iopub.status.idle": "2025-05-05T20:42:59.273116Z",
     "shell.execute_reply": "2025-05-05T20:42:59.272097Z",
     "shell.execute_reply.started": "2025-05-05T20:40:20.677653Z"
    }
   },
   "outputs": [
    {
     "data": {
      "text/html": [
       "\n",
       "    <div>\n",
       "      \n",
       "      <progress value='550' max='2750' style='width:300px; height:20px; vertical-align: middle;'></progress>\n",
       "      [ 550/2750 02:38 < 10:35, 3.46 it/s, Epoch 10/50]\n",
       "    </div>\n",
       "    <table border=\"1\" class=\"dataframe\">\n",
       "  <thead>\n",
       " <tr style=\"text-align: left;\">\n",
       "      <th>Epoch</th>\n",
       "      <th>Training Loss</th>\n",
       "      <th>Validation Loss</th>\n",
       "      <th>Accuracy</th>\n",
       "      <th>Precision</th>\n",
       "      <th>Recall</th>\n",
       "      <th>F1</th>\n",
       "    </tr>\n",
       "  </thead>\n",
       "  <tbody>\n",
       "    <tr>\n",
       "      <td>1</td>\n",
       "      <td>0.248400</td>\n",
       "      <td>1.301687</td>\n",
       "      <td>0.698630</td>\n",
       "      <td>0.714334</td>\n",
       "      <td>0.698630</td>\n",
       "      <td>0.702276</td>\n",
       "    </tr>\n",
       "    <tr>\n",
       "      <td>2</td>\n",
       "      <td>0.325000</td>\n",
       "      <td>1.236253</td>\n",
       "      <td>0.703196</td>\n",
       "      <td>0.720062</td>\n",
       "      <td>0.703196</td>\n",
       "      <td>0.706724</td>\n",
       "    </tr>\n",
       "    <tr>\n",
       "      <td>3</td>\n",
       "      <td>0.316600</td>\n",
       "      <td>1.206020</td>\n",
       "      <td>0.739726</td>\n",
       "      <td>0.749802</td>\n",
       "      <td>0.739726</td>\n",
       "      <td>0.736998</td>\n",
       "    </tr>\n",
       "    <tr>\n",
       "      <td>4</td>\n",
       "      <td>0.310400</td>\n",
       "      <td>1.217715</td>\n",
       "      <td>0.746575</td>\n",
       "      <td>0.753494</td>\n",
       "      <td>0.746575</td>\n",
       "      <td>0.747329</td>\n",
       "    </tr>\n",
       "    <tr>\n",
       "      <td>5</td>\n",
       "      <td>0.326600</td>\n",
       "      <td>1.173711</td>\n",
       "      <td>0.753425</td>\n",
       "      <td>0.768095</td>\n",
       "      <td>0.753425</td>\n",
       "      <td>0.755264</td>\n",
       "    </tr>\n",
       "    <tr>\n",
       "      <td>6</td>\n",
       "      <td>0.304200</td>\n",
       "      <td>1.212043</td>\n",
       "      <td>0.730594</td>\n",
       "      <td>0.742261</td>\n",
       "      <td>0.730594</td>\n",
       "      <td>0.727150</td>\n",
       "    </tr>\n",
       "    <tr>\n",
       "      <td>7</td>\n",
       "      <td>0.286400</td>\n",
       "      <td>1.119050</td>\n",
       "      <td>0.751142</td>\n",
       "      <td>0.754559</td>\n",
       "      <td>0.751142</td>\n",
       "      <td>0.751727</td>\n",
       "    </tr>\n",
       "    <tr>\n",
       "      <td>8</td>\n",
       "      <td>0.332200</td>\n",
       "      <td>1.201661</td>\n",
       "      <td>0.757991</td>\n",
       "      <td>0.764935</td>\n",
       "      <td>0.757991</td>\n",
       "      <td>0.757998</td>\n",
       "    </tr>\n",
       "    <tr>\n",
       "      <td>9</td>\n",
       "      <td>0.298900</td>\n",
       "      <td>1.122740</td>\n",
       "      <td>0.762557</td>\n",
       "      <td>0.767083</td>\n",
       "      <td>0.762557</td>\n",
       "      <td>0.761985</td>\n",
       "    </tr>\n",
       "    <tr>\n",
       "      <td>10</td>\n",
       "      <td>0.289700</td>\n",
       "      <td>1.172439</td>\n",
       "      <td>0.762557</td>\n",
       "      <td>0.769756</td>\n",
       "      <td>0.762557</td>\n",
       "      <td>0.762454</td>\n",
       "    </tr>\n",
       "  </tbody>\n",
       "</table><p>"
      ],
      "text/plain": [
       "<IPython.core.display.HTML object>"
      ]
     },
     "metadata": {},
     "output_type": "display_data"
    },
    {
     "data": {
      "text/plain": [
       "TrainOutput(global_step=550, training_loss=0.3038360127535733, metrics={'train_runtime': 158.581, 'train_samples_per_second': 1104.798, 'train_steps_per_second': 17.341, 'total_flos': 795117857587200.0, 'train_loss': 0.3038360127535733, 'epoch': 10.0})"
      ]
     },
     "execution_count": 91,
     "metadata": {},
     "output_type": "execute_result"
    }
   ],
   "source": [
    "trainer.train()"
   ]
  },
  {
   "cell_type": "code",
   "execution_count": 92,
   "metadata": {
    "execution": {
     "iopub.execute_input": "2025-05-05T20:43:04.605245Z",
     "iopub.status.busy": "2025-05-05T20:43:04.604343Z",
     "iopub.status.idle": "2025-05-05T20:43:05.488378Z",
     "shell.execute_reply": "2025-05-05T20:43:05.487361Z",
     "shell.execute_reply.started": "2025-05-05T20:43:04.605173Z"
    }
   },
   "outputs": [
    {
     "data": {
      "text/html": [],
      "text/plain": [
       "<IPython.core.display.HTML object>"
      ]
     },
     "metadata": {},
     "output_type": "display_data"
    },
    {
     "data": {
      "text/plain": [
       "{'eval_loss': 1.1191972494125366,\n",
       " 'eval_accuracy': 0.7511415525114156,\n",
       " 'eval_precision': 0.7545594454428163,\n",
       " 'eval_recall': 0.7511415525114156,\n",
       " 'eval_f1': 0.7517265420396412,\n",
       " 'eval_runtime': 0.7738,\n",
       " 'eval_samples_per_second': 566.063,\n",
       " 'eval_steps_per_second': 18.093,\n",
       " 'epoch': 10.0}"
      ]
     },
     "execution_count": 92,
     "metadata": {},
     "output_type": "execute_result"
    }
   ],
   "source": [
    "# Sauvegarde du modèle et du tokenizer\n",
    "model.save_pretrained(\"./final_model\")\n",
    "tokenizer.save_pretrained(\"./final_model\")\n",
    "\n",
    "trainer.evaluate()"
   ]
  },
  {
   "cell_type": "markdown",
   "metadata": {},
   "source": [
    "## Test"
   ]
  },
  {
   "cell_type": "markdown",
   "metadata": {},
   "source": [
    "Let's have a look at the test data:"
   ]
  },
  {
   "cell_type": "code",
   "execution_count": 93,
   "metadata": {
    "execution": {
     "iopub.execute_input": "2025-05-05T20:43:10.515463Z",
     "iopub.status.busy": "2025-05-05T20:43:10.514685Z",
     "iopub.status.idle": "2025-05-05T20:43:11.284428Z",
     "shell.execute_reply": "2025-05-05T20:43:11.283471Z",
     "shell.execute_reply.started": "2025-05-05T20:43:10.515404Z"
    }
   },
   "outputs": [],
   "source": [
    "y_hat = trainer.predict(tokenized_ds['test'])"
   ]
  },
  {
   "cell_type": "markdown",
   "metadata": {},
   "source": [
    "I definitely expected worse. An weighted f1-score is not too bad, considering, that we only use a short sequence of the dna. Also, we can not predict class 5 correct. Probably, we don't have enough training data or the sequence is specific and there is not enough information in our used data."
   ]
  },
  {
   "cell_type": "code",
   "execution_count": 94,
   "metadata": {
    "execution": {
     "iopub.execute_input": "2025-05-05T20:43:14.018300Z",
     "iopub.status.busy": "2025-05-05T20:43:14.017614Z",
     "iopub.status.idle": "2025-05-05T20:43:14.029381Z",
     "shell.execute_reply": "2025-05-05T20:43:14.028122Z",
     "shell.execute_reply.started": "2025-05-05T20:43:14.018268Z"
    }
   },
   "outputs": [
    {
     "name": "stdout",
     "output_type": "stream",
     "text": [
      "micro: 0.7374429223744292\n",
      "macro: 0.7139534297690846\n",
      "weighted: 0.736213253533745\n"
     ]
    }
   ],
   "source": [
    "for weight in ['micro', 'macro', 'weighted']:\n",
    "    f1 = f1_score(np.argmax(y_hat[0], axis=1), tokenized_ds['test']['label'], average=weight)\n",
    "    print(f\"{weight}: {f1}\")"
   ]
  },
  {
   "cell_type": "code",
   "execution_count": 95,
   "metadata": {
    "execution": {
     "iopub.execute_input": "2025-05-05T20:43:17.610838Z",
     "iopub.status.busy": "2025-05-05T20:43:17.610098Z",
     "iopub.status.idle": "2025-05-05T20:43:17.620489Z",
     "shell.execute_reply": "2025-05-05T20:43:17.619522Z",
     "shell.execute_reply.started": "2025-05-05T20:43:17.610800Z"
    }
   },
   "outputs": [
    {
     "name": "stdout",
     "output_type": "stream",
     "text": [
      "              precision    recall  f1-score   support\n",
      "\n",
      "           0       0.72      0.64      0.68        53\n",
      "           1       0.61      0.85      0.71        54\n",
      "           2       0.62      0.71      0.67        35\n",
      "           3       0.84      0.70      0.76        67\n",
      "           4       0.69      0.69      0.69        71\n",
      "           5       0.71      0.62      0.67        24\n",
      "           6       0.84      0.80      0.82       134\n",
      "\n",
      "    accuracy                           0.74       438\n",
      "   macro avg       0.72      0.72      0.71       438\n",
      "weighted avg       0.75      0.74      0.74       438\n",
      "\n"
     ]
    }
   ],
   "source": [
    "print(classification_report(tokenized_ds['test']['label'], np.argmax(y_hat[0], axis=1)))"
   ]
  },
  {
   "cell_type": "code",
   "execution_count": 96,
   "metadata": {
    "execution": {
     "iopub.execute_input": "2025-05-05T20:43:20.879029Z",
     "iopub.status.busy": "2025-05-05T20:43:20.878288Z",
     "iopub.status.idle": "2025-05-05T20:43:21.370109Z",
     "shell.execute_reply": "2025-05-05T20:43:21.369035Z",
     "shell.execute_reply.started": "2025-05-05T20:43:20.878996Z"
    }
   },
   "outputs": [
    {
     "data": {
      "text/plain": [
       "<sklearn.metrics._plot.confusion_matrix.ConfusionMatrixDisplay at 0x787f24080c50>"
      ]
     },
     "execution_count": 96,
     "metadata": {},
     "output_type": "execute_result"
    },
    {
     "data": {
      "image/png": "[encoded data removed]",
      "text/plain": [
       "<Figure size 640x480 with 2 Axes>"
      ]
     },
     "metadata": {},
     "output_type": "display_data"
    }
   ],
   "source": [
    "cm = confusion_matrix(tokenized_ds['test']['label'], np.argmax(y_hat[0], axis=1))\n",
    "disp = ConfusionMatrixDisplay(confusion_matrix=cm,\n",
    "                              display_labels=list(range(n_classes)))\n",
    "\n",
    "disp.plot(xticks_rotation=\"vertical\") "
   ]
  },
  {
   "cell_type": "code",
   "execution_count": null,
   "metadata": {},
   "outputs": [],
   "source": []
  }
 ],
 "metadata": {
  "kaggle": {
   "accelerator": "gpu",
   "dataSources": [
    {
     "datasetId": 1099198,
     "sourceId": 1848242,
     "sourceType": "datasetVersion"
    }
   ],
   "dockerImageVersionId": 30461,
   "isGpuEnabled": true,
   "isInternetEnabled": true,
   "language": "python",
   "sourceType": "notebook"
  },
  "kernelspec": {
   "display_name": "Python 3 (ipykernel)",
   "language": "python",
   "name": "python3"
  },
  "language_info": {
   "codemirror_mode": {
    "name": "ipython",
    "version": 3
   },
   "file_extension": ".py",
   "mimetype": "text/x-python",
   "name": "python",
   "nbconvert_exporter": "python",
   "pygments_lexer": "ipython3",
   "version": "3.12.7"
  }
 },
 "nbformat": 4,
 "nbformat_minor": 4
}
