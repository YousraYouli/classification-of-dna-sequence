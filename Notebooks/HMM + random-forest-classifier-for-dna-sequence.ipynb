{
 "cells": [
  {
   "cell_type": "code",
   "execution_count": null,
   "metadata": {
    "_cell_guid": "b1076dfc-b9ad-4769-8c92-a6c4dae69d19",
    "_uuid": "8f2839f25d086af736a60e9eeb907d3b93b6e0e5",
    "execution": {
     "iopub.execute_input": "2025-05-05T07:10:46.404987Z",
     "iopub.status.busy": "2025-05-05T07:10:46.404816Z",
     "iopub.status.idle": "2025-05-05T07:10:46.674348Z",
     "shell.execute_reply": "2025-05-05T07:10:46.673549Z",
     "shell.execute_reply.started": "2025-05-05T07:10:46.404971Z"
    }
   },
   "outputs": [
    {
     "name": "stdout",
     "output_type": "stream",
     "text": [
      "/kaggle/input/dna-sequence-dataset/dog.txt\n",
      "/kaggle/input/dna-sequence-dataset/example_dna.fa\n",
      "/kaggle/input/dna-sequence-dataset/human.txt\n",
      "/kaggle/input/dna-sequence-dataset/chimpanzee.txt\n"
     ]
    }
   ],
   "source": [
    "import numpy as np \n",
    "import pandas as pd \n",
    "\n",
    "import os\n",
    "for dirname, _, filenames in os.walk('/kaggle/input'):\n",
    "    for filename in filenames:\n",
    "        print(os.path.join(dirname, filename))\n"
   ]
  },
  {
   "cell_type": "code",
   "execution_count": null,
   "metadata": {
    "execution": {
     "iopub.execute_input": "2025-05-05T07:10:46.675617Z",
     "iopub.status.busy": "2025-05-05T07:10:46.675163Z",
     "iopub.status.idle": "2025-05-05T07:10:46.713397Z",
     "shell.execute_reply": "2025-05-05T07:10:46.712733Z",
     "shell.execute_reply.started": "2025-05-05T07:10:46.675593Z"
    }
   },
   "outputs": [
    {
     "data": {
      "text/plain": [
       "'sequence\\tclass\\nATGCCCCAACTAAATACCGCCGTATGACCCACCATAATTACCCCCATACTCCTGACACTATTTCTCGTCACCCAACTAAAAATAT'"
      ]
     },
     "execution_count": 2,
     "metadata": {},
     "output_type": "execute_result"
    }
   ],
   "source": [
    "with open ('/kaggle/input/dna-sequence-dataset/chimpanzee.txt', 'r') as file:\n",
    "    dna = file.read()\n",
    "\n",
    "dna[:100]"
   ]
  },
  {
   "cell_type": "code",
   "execution_count": null,
   "metadata": {
    "execution": {
     "iopub.execute_input": "2025-05-05T07:10:46.715349Z",
     "iopub.status.busy": "2025-05-05T07:10:46.715150Z",
     "iopub.status.idle": "2025-05-05T07:10:52.010775Z",
     "shell.execute_reply": "2025-05-05T07:10:52.009868Z",
     "shell.execute_reply.started": "2025-05-05T07:10:46.715333Z"
    }
   },
   "outputs": [
    {
     "name": "stdout",
     "output_type": "stream",
     "text": [
      "Collecting biopython\n",
      "  Downloading biopython-1.85-cp311-cp311-manylinux_2_17_x86_64.manylinux2014_x86_64.whl.metadata (13 kB)\n",
      "Requirement already satisfied: numpy in /usr/local/lib/python3.11/dist-packages (from biopython) (1.26.4)\n",
      "Requirement already satisfied: mkl_fft in /usr/local/lib/python3.11/dist-packages (from numpy->biopython) (1.3.8)\n",
      "Requirement already satisfied: mkl_random in /usr/local/lib/python3.11/dist-packages (from numpy->biopython) (1.2.4)\n",
      "Requirement already satisfied: mkl_umath in /usr/local/lib/python3.11/dist-packages (from numpy->biopython) (0.1.1)\n",
      "Requirement already satisfied: mkl in /usr/local/lib/python3.11/dist-packages (from numpy->biopython) (2025.1.0)\n",
      "Requirement already satisfied: tbb4py in /usr/local/lib/python3.11/dist-packages (from numpy->biopython) (2022.1.0)\n",
      "Requirement already satisfied: mkl-service in /usr/local/lib/python3.11/dist-packages (from numpy->biopython) (2.4.1)\n",
      "Requirement already satisfied: intel-openmp<2026,>=2024 in /usr/local/lib/python3.11/dist-packages (from mkl->numpy->biopython) (2024.2.0)\n",
      "Requirement already satisfied: tbb==2022.* in /usr/local/lib/python3.11/dist-packages (from mkl->numpy->biopython) (2022.1.0)\n",
      "Requirement already satisfied: tcmlib==1.* in /usr/local/lib/python3.11/dist-packages (from tbb==2022.*->mkl->numpy->biopython) (1.2.0)\n",
      "Requirement already satisfied: intel-cmplr-lib-rt in /usr/local/lib/python3.11/dist-packages (from mkl_umath->numpy->biopython) (2024.2.0)\n",
      "Requirement already satisfied: intel-cmplr-lib-ur==2024.2.0 in /usr/local/lib/python3.11/dist-packages (from intel-openmp<2026,>=2024->mkl->numpy->biopython) (2024.2.0)\n",
      "Downloading biopython-1.85-cp311-cp311-manylinux_2_17_x86_64.manylinux2014_x86_64.whl (3.3 MB)\n",
      "\u001b[2K   \u001b[90m━━━━━━━━━━━━━━━━━━━━━━━━━━━━━━━━━━━━━━━━\u001b[0m \u001b[32m3.3/3.3 MB\u001b[0m \u001b[31m33.0 MB/s\u001b[0m eta \u001b[36m0:00:00\u001b[0ma \u001b[36m0:00:01\u001b[0m\n",
      "\u001b[?25hInstalling collected packages: biopython\n",
      "Successfully installed biopython-1.85\n"
     ]
    }
   ],
   "source": [
    "!pip install biopython"
   ]
  },
  {
   "cell_type": "code",
   "execution_count": null,
   "metadata": {
    "execution": {
     "iopub.execute_input": "2025-05-05T07:10:52.012119Z",
     "iopub.status.busy": "2025-05-05T07:10:52.011817Z",
     "iopub.status.idle": "2025-05-05T07:10:52.017428Z",
     "shell.execute_reply": "2025-05-05T07:10:52.016921Z",
     "shell.execute_reply.started": "2025-05-05T07:10:52.012088Z"
    }
   },
   "outputs": [
    {
     "data": {
      "text/plain": [
       "3258260"
      ]
     },
     "execution_count": 4,
     "metadata": {},
     "output_type": "execute_result"
    }
   ],
   "source": [
    "len(dna)"
   ]
  },
  {
   "cell_type": "code",
   "execution_count": null,
   "metadata": {
    "execution": {
     "iopub.execute_input": "2025-05-05T07:10:52.018297Z",
     "iopub.status.busy": "2025-05-05T07:10:52.018084Z",
     "iopub.status.idle": "2025-05-05T07:10:52.112859Z",
     "shell.execute_reply": "2025-05-05T07:10:52.112144Z",
     "shell.execute_reply.started": "2025-05-05T07:10:52.018281Z"
    }
   },
   "outputs": [
    {
     "name": "stdout",
     "output_type": "stream",
     "text": [
      "3258260\n",
      "829440\n",
      "724689\n",
      "846118\n",
      "852790\n"
     ]
    }
   ],
   "source": [
    "from Bio import Seq\n",
    "\n",
    "\n",
    "print(len(dna))\n",
    "print(dna.count('A'))\n",
    "print(dna.count('T'))\n",
    "print(dna.count('G'))\n",
    "print(dna.count('C'))"
   ]
  },
  {
   "cell_type": "code",
   "execution_count": null,
   "metadata": {
    "execution": {
     "iopub.execute_input": "2025-05-05T07:10:52.113761Z",
     "iopub.status.busy": "2025-05-05T07:10:52.113576Z",
     "iopub.status.idle": "2025-05-05T07:10:52.137100Z",
     "shell.execute_reply": "2025-05-05T07:10:52.136341Z",
     "shell.execute_reply.started": "2025-05-05T07:10:52.113746Z"
    }
   },
   "outputs": [
    {
     "name": "stdout",
     "output_type": "stream",
     "text": [
      "52.141572495749266\n"
     ]
    }
   ],
   "source": [
    "gc = dna.count('G') + dna.count('C')\n",
    "print((gc/len(dna))*100)"
   ]
  },
  {
   "cell_type": "code",
   "execution_count": null,
   "metadata": {
    "execution": {
     "iopub.execute_input": "2025-05-05T07:10:52.137956Z",
     "iopub.status.busy": "2025-05-05T07:10:52.137729Z",
     "iopub.status.idle": "2025-05-05T07:10:52.903917Z",
     "shell.execute_reply": "2025-05-05T07:10:52.903389Z",
     "shell.execute_reply.started": "2025-05-05T07:10:52.137932Z"
    }
   },
   "outputs": [],
   "source": [
    "import matplotlib.pyplot as plt\n",
    "import seaborn as sns\n",
    "from collections import Counter"
   ]
  },
  {
   "cell_type": "code",
   "execution_count": null,
   "metadata": {
    "execution": {
     "iopub.execute_input": "2025-05-05T07:10:52.904861Z",
     "iopub.status.busy": "2025-05-05T07:10:52.904600Z",
     "iopub.status.idle": "2025-05-05T07:10:53.082816Z",
     "shell.execute_reply": "2025-05-05T07:10:53.082069Z",
     "shell.execute_reply.started": "2025-05-05T07:10:52.904842Z"
    }
   },
   "outputs": [
    {
     "data": {
      "text/plain": [
       "Counter({'s': 3,\n",
       "         'e': 3,\n",
       "         'q': 1,\n",
       "         'u': 1,\n",
       "         'n': 1,\n",
       "         'c': 2,\n",
       "         '\\t': 1683,\n",
       "         'l': 1,\n",
       "         'a': 1,\n",
       "         '\\n': 1682,\n",
       "         'A': 829440,\n",
       "         'T': 724689,\n",
       "         'G': 846118,\n",
       "         'C': 852790,\n",
       "         '4': 261,\n",
       "         '6': 521,\n",
       "         '0': 234,\n",
       "         '1': 185,\n",
       "         '3': 228,\n",
       "         '2': 144,\n",
       "         '5': 109,\n",
       "         'N': 163})"
      ]
     },
     "execution_count": 8,
     "metadata": {},
     "output_type": "execute_result"
    }
   ],
   "source": [
    "base_counts = Counter(dna)\n",
    "base_counts"
   ]
  },
  {
   "cell_type": "code",
   "execution_count": null,
   "metadata": {
    "execution": {
     "iopub.execute_input": "2025-05-05T07:10:53.085276Z",
     "iopub.status.busy": "2025-05-05T07:10:53.085076Z",
     "iopub.status.idle": "2025-05-05T07:10:53.482238Z",
     "shell.execute_reply": "2025-05-05T07:10:53.481491Z",
     "shell.execute_reply.started": "2025-05-05T07:10:53.085260Z"
    }
   },
   "outputs": [
    {
     "name": "stderr",
     "output_type": "stream",
     "text": [
      "/usr/local/lib/python3.11/dist-packages/seaborn/_oldcore.py:1765: FutureWarning: unique with argument that is not not a Series, Index, ExtensionArray, or np.ndarray is deprecated and will raise in a future version.\n",
      "  order = pd.unique(vector)\n",
      "/usr/local/lib/python3.11/dist-packages/IPython/core/pylabtools.py:151: UserWarning: Glyph 9 (\t) missing from current font.\n",
      "  fig.canvas.print_figure(bytes_io, **kw)\n"
     ]
    },
    {
     "data": {
      "image/png": "[encoded data removed]",
      "text/plain": [
       "<Figure size 600x400 with 1 Axes>"
      ]
     },
     "metadata": {},
     "output_type": "display_data"
    }
   ],
   "source": [
    "plt.figure(figsize=(6, 4))\n",
    "sns.barplot(x=list(base_counts.keys()), y=list(base_counts.values()))\n",
    "plt.title(\"Base Composition of Chimpanzee DNA\")\n",
    "plt.xlabel(\"Nucleotide\")\n",
    "plt.ylabel(\"Count\")\n",
    "plt.show()\n"
   ]
  },
  {
   "cell_type": "code",
   "execution_count": null,
   "metadata": {
    "execution": {
     "iopub.execute_input": "2025-05-05T07:10:53.483112Z",
     "iopub.status.busy": "2025-05-05T07:10:53.482919Z",
     "iopub.status.idle": "2025-05-05T07:10:54.195594Z",
     "shell.execute_reply": "2025-05-05T07:10:54.195007Z",
     "shell.execute_reply.started": "2025-05-05T07:10:53.483097Z"
    }
   },
   "outputs": [
    {
     "name": "stdout",
     "output_type": "stream",
     "text": [
      "Top 10 most frequent 4-mers:\n",
      "[('CCTG', 30136), ('CTGG', 29987), ('GCTG', 29353), ('CAGC', 29081), ('CCAG', 28396), ('TGGA', 27310), ('GGAG', 26410), ('AGAA', 26322), ('CTGC', 26059), ('GAAG', 26045)]\n"
     ]
    }
   ],
   "source": [
    "def get_kmers(sequence, k=4):\n",
    "    return [sequence[i:i+k] for i in range(len(sequence) - k + 1)]\n",
    "\n",
    "kmers_4 = get_kmers(dna, k=4)\n",
    "kmers_counts = Counter(kmers_4)\n",
    "\n",
    "print(\"Top 10 most frequent 4-mers:\")\n",
    "print(kmers_counts.most_common(10))"
   ]
  },
  {
   "cell_type": "code",
   "execution_count": null,
   "metadata": {
    "execution": {
     "iopub.execute_input": "2025-05-05T07:10:54.197195Z",
     "iopub.status.busy": "2025-05-05T07:10:54.196485Z",
     "iopub.status.idle": "2025-05-05T07:10:54.250809Z",
     "shell.execute_reply": "2025-05-05T07:10:54.250091Z",
     "shell.execute_reply.started": "2025-05-05T07:10:54.197168Z"
    }
   },
   "outputs": [
    {
     "data": {
      "text/plain": [
       "'sequence\\tclass\\nATGCCACAGCTAGATACATCCACCTGATTTATTATAATCTTTTCAATATTTCTCACCCTCTTCATCCTATTTCAACTAAAAATTT'"
      ]
     },
     "execution_count": 11,
     "metadata": {},
     "output_type": "execute_result"
    }
   ],
   "source": [
    "with open ('/kaggle/input/dna-sequence-dataset/dog.txt', 'r') as file:\n",
    "    dna1 = file.read()\n",
    "\n",
    "dna1[:100]"
   ]
  },
  {
   "cell_type": "code",
   "execution_count": null,
   "metadata": {
    "execution": {
     "iopub.execute_input": "2025-05-05T07:10:54.251966Z",
     "iopub.status.busy": "2025-05-05T07:10:54.251715Z",
     "iopub.status.idle": "2025-05-05T07:10:54.276207Z",
     "shell.execute_reply": "2025-05-05T07:10:54.275579Z",
     "shell.execute_reply.started": "2025-05-05T07:10:54.251944Z"
    }
   },
   "outputs": [
    {
     "name": "stdout",
     "output_type": "stream",
     "text": [
      "1667375\n",
      "414741\n",
      "363105\n",
      "439921\n",
      "446902\n"
     ]
    }
   ],
   "source": [
    "print(len(dna1))\n",
    "print(dna1.count('A'))\n",
    "print(dna1.count('T'))\n",
    "print(dna1.count('G'))\n",
    "print(dna1.count('C'))"
   ]
  },
  {
   "cell_type": "code",
   "execution_count": null,
   "metadata": {
    "execution": {
     "iopub.execute_input": "2025-05-05T07:10:54.277841Z",
     "iopub.status.busy": "2025-05-05T07:10:54.277248Z",
     "iopub.status.idle": "2025-05-05T07:10:54.303132Z",
     "shell.execute_reply": "2025-05-05T07:10:54.302564Z",
     "shell.execute_reply.started": "2025-05-05T07:10:54.277823Z"
    }
   },
   "outputs": [
    {
     "name": "stdout",
     "output_type": "stream",
     "text": [
      "53.186775620361345\n"
     ]
    }
   ],
   "source": [
    "gc1 = dna1.count('G') + dna1.count('C')\n",
    "print((gc1/len(dna1))*100)"
   ]
  },
  {
   "cell_type": "code",
   "execution_count": null,
   "metadata": {
    "execution": {
     "iopub.execute_input": "2025-05-05T07:10:54.303975Z",
     "iopub.status.busy": "2025-05-05T07:10:54.303776Z",
     "iopub.status.idle": "2025-05-05T07:10:54.400207Z",
     "shell.execute_reply": "2025-05-05T07:10:54.399642Z",
     "shell.execute_reply.started": "2025-05-05T07:10:54.303954Z"
    }
   },
   "outputs": [
    {
     "data": {
      "text/plain": [
       "Counter({'s': 3,\n",
       "         'e': 3,\n",
       "         'q': 1,\n",
       "         'u': 1,\n",
       "         'n': 1,\n",
       "         'c': 2,\n",
       "         '\\t': 821,\n",
       "         'l': 1,\n",
       "         'a': 1,\n",
       "         '\\n': 820,\n",
       "         'A': 414741,\n",
       "         'T': 363105,\n",
       "         'G': 439921,\n",
       "         'C': 446902,\n",
       "         '4': 135,\n",
       "         '6': 260,\n",
       "         '0': 131,\n",
       "         '3': 95,\n",
       "         'N': 232,\n",
       "         '2': 64,\n",
       "         '5': 60,\n",
       "         '1': 75})"
      ]
     },
     "execution_count": 14,
     "metadata": {},
     "output_type": "execute_result"
    }
   ],
   "source": [
    "base_counts1 = Counter(dna1)\n",
    "base_counts1"
   ]
  },
  {
   "cell_type": "code",
   "execution_count": null,
   "metadata": {
    "execution": {
     "iopub.execute_input": "2025-05-05T07:10:54.401387Z",
     "iopub.status.busy": "2025-05-05T07:10:54.400910Z",
     "iopub.status.idle": "2025-05-05T07:10:54.785651Z",
     "shell.execute_reply": "2025-05-05T07:10:54.785028Z",
     "shell.execute_reply.started": "2025-05-05T07:10:54.401361Z"
    }
   },
   "outputs": [
    {
     "name": "stdout",
     "output_type": "stream",
     "text": [
      "Top 10 most frequent 4-mers:\n",
      "[('CCTG', 15722), ('CTGG', 15582), ('GCTG', 15291), ('CAGC', 15044), ('CCAG', 14811), ('GGAG', 13956), ('TGGA', 13821), ('CTGC', 13730), ('GAAG', 13395), ('AGAA', 13026)]\n"
     ]
    }
   ],
   "source": [
    "def get_kmers1(sequence, k=4):\n",
    "    return [sequence[i:i+k] for i in range(len(sequence) - k + 1)]\n",
    "\n",
    "kmers_1 = get_kmers1(dna1, k=4)\n",
    "kmers_counts1 = Counter(kmers_1)\n",
    "\n",
    "print(\"Top 10 most frequent 4-mers:\")\n",
    "print(kmers_counts1.most_common(10))"
   ]
  },
  {
   "cell_type": "code",
   "execution_count": null,
   "metadata": {
    "execution": {
     "iopub.execute_input": "2025-05-05T07:10:54.786491Z",
     "iopub.status.busy": "2025-05-05T07:10:54.786311Z",
     "iopub.status.idle": "2025-05-05T07:10:55.201806Z",
     "shell.execute_reply": "2025-05-05T07:10:55.201201Z",
     "shell.execute_reply.started": "2025-05-05T07:10:54.786477Z"
    }
   },
   "outputs": [
    {
     "name": "stdout",
     "output_type": "stream",
     "text": [
      "Common 4-mers: ['TCAT', '0\\nTG', 'AGCC', 'CAAA', 'TTGT', 'CAGC', 'ACAC', 'CTAA', 'GTAA', 'AG\\t3', 'ATGA', '\\t6\\nT', '\\nATA', 'TAGA', 'CTGC', 'GCCC', 'TAAC', 'ACCC', 'CC\\t6', 'GTTA', 'ATAC', 'GTGC', 'CAGA', 'TCCG', 'ATAA', 'TATA', 'AAAG', '\\t4\\nG', 'GCGG', 'GTAT', 'GTTT', 'TGCT', 'ATCA', 'GACT', 'AGAG', 'ATCT', '6\\nAG', '\\nAGC', 'GGCC', 'GTTC', 'lass', '\\nTCG', 'TACT', 'ACAG', 'CATG', 'ACTG', '2\\nAG', '\\nTGC', '\\nGGA', 'AGCG', '\\t6\\nC', 'GATT', '\\t1\\nC', 'AA\\t5', 'AGCT', '0\\nAT', 'ATTC', 'TTGC', 'TTCC', 'ACAA', 'AG\\t0', 'ACTC', 'CAAG', 'GA\\t4', 'CCTA', '\\nCAC', 'GTTG', 'CCGC', '\\t0\\nA', '\\nCTA', 's\\nAT', 'AGTC', 'CGGG', '4\\nAT', 'CGGA', 'ACTT', 'CTTA', 'CCTC', 'TGGT', '\\nTGT', '\\t3\\nA', 'GGTG', 'GGGG', 'TGCG', 'eque', 'CCGT', 'CCCT', '\\nAGT', 'TCGC', 'AA\\t1', '\\nTCT', '\\nACA', 'TGA\\t', 'GCTG', '\\nATG', 'GAAG', 'TCTG', 'ACCT', 'A\\t0\\n', 'GGCA', 'uenc', 'GCTA', 'GGGA', 'GTCA', '\\nGAA', '\\nAAG', 'CGGT', '\\t4\\nT', '\\nATT', 'TAGT', 'TCGG', 'GAGT', 'AGTG', 'TAAT', 'AACC', 'GTCG', '\\nGAT', '6\\nCC', 'TTAC', 'AGTA', 'GGTC', 'TAGC', 'AGGT', 'clas', 'GCTC', 'AA\\t0', 'TTTA', 'TTAA', '\\nCAT', '\\nTTC', 'TTAT', 'AGAC', 'GG\\t6', 'GNNN', '\\t3\\nC', '\\t4\\nC', '\\nCCC', 'GA\\t0', 'G\\t4\\n', 'ATAG', '4\\nCC', 'ATGG', 'TATT', '0\\nGT', '\\nTTT', 'ass\\n', '3\\nAG', 'CTGT', 'TACA', 'CTTT', 'GCAT', 'AAGA', 'CACT', 'TCCA', '\\nGCA', '6\\nAC', 'ACAT', '6\\nCA', 'ATTA', 'CGAG', 'ce\\tc', 'quen', '1\\nGA', 'TCCC', 'TATC', 'TACG', 'AAAC', '\\t1\\nT', 'G\\t0\\n', 'TCAG', 'GCTT', '\\nCAG', 'CGAA', '1\\nCC', 'ACGT', '3\\nGC', 'TGAC', 'AG\\t6', '\\t5\\nA', 'CTAT', '\\t3\\nT', 'NNNN', '1\\nTG', '4\\nGA', 'TGCA', '0\\nAG', 'GACA', 'ACC\\t', 'GCCG', 'AGGC', 'TCTA', 'CGAT', 'ATCC', 'GTGT', '1\\nCT', 'TAGG', 'CAGG', 'CTAG', '\\t0\\nT', 'GGCG', 'A\\t2\\n', 'G\\t1\\n', '\\nGTG', 'AGTT', 'CACG', '\\nGAC', 'TTG\\t', '\\t5\\nT', 'CATT', 'nce\\t', '\\t2\\nT', '6\\nTC', '6\\nGG', 'TGGG', 'AAGG', 'TTGA', 'TCAC', '\\t2\\nG', 'AGGG', 'AAAA', '\\nTGG', '\\t4\\nA', 'ACGC', 'AGCA', 'AACA', 'GA\\t1', '4\\nAG', 'CCAT', 'GGGT', 'CGTA', 'GCGC', 'CCCG', 'A\\t5\\n', 'AACG', '\\nACG', 'TACC', 'TGTC', 'CTAC', 'TCGA', 'GA\\t2', 'TTCA', 'CTCG', 'TGGA', 'TGTA', 'ATTT', 'ATCG', 'ATGT', 'TAAA', 'AATT', '\\t2\\nC', 'GCCA', '6\\nGA', 'CCTT', 'GAGG', '\\t1\\nA', '\\t3\\nG', '4\\nAA', '1\\nGT', 'NNN\\t', 'CTCT', 'TGTG', 'GATC', '\\nGCT', 'CC\\t4', '\\t6\\nG', '5\\nAT', '\\nGGG', 'TGGC', 'ACCA', 'A\\t3\\n', 'GAGC', 'CGGC', 'GAGA', '4\\nTC', 'CCGG', 'CAAT', 'TGAT', '6\\nAT', '\\nAGG', 'AAGT', '0\\nCT', 'AGG\\t', '4\\nTT', 'GCAC', 'CTCC', 'GA\\t5', '1\\nGG', 'A\\t6\\n', 'CGCC', 'TG\\t6', '\\nTCA', 'CTGG', '\\nATC', 'TGAG', 'AGAA', 'CGAC', 'TGTT', 'CCGA', 'ACGA', 'CACC', 'C\\t4\\n', '\\t0\\nC', 'AACT', '6\\nTG', '3\\nTT', '\\t0\\nG', '\\t2\\nA', 'TTTT', 'TTTG', 'TTTC', 'CCAC', '2\\nGT', 'CAGT', 'GCCT', 'CGTC', 'GGAA', 'TTAG', 'GGAT', 'CCCC', 'GA\\t3', 'CGTG', '\\nAAA', '\\t5\\nC', 'CGCA', 'TATG', '2\\nTC', 'ATGC', '\\nGGT', 'GGTT', 'CGCT', 'AG\\t5', 'TGAA', 'G\\t2\\n', '\\nCTG', 'TCTC', 'NNNC', '0\\nCA', 'CTGA', 'CATC', 'GTGG', '4\\nGG', 'ATTG', 'GACG', 'AA\\t4', 'GTCT', 'GACC', 'GTGA', 'CTTC', 'AG\\t1', 'A\\t4\\n', 'AGAT', 'GAAC', 'AATC', 'G\\t6\\n', 'CGTT', 'ACGG', 'TCTT', 'AATA', 'ence', 'e\\tcl', '3\\nAT', 'CTCA', '\\nCTT', 'AAGC', 'G\\t5\\n', '\\nGAG', '\\nCTC', 'C\\t6\\n', 'TCAA', 'A\\t1\\n', 'TTCG', 'CAAC', 'AA\\t6', 'CCAG', 'TTGG', '1\\nAA', 'TCGT', 'GCC\\t', '6\\nTT', '6\\nCT', 'ACCG', 'GATA', 'TAG\\t', 'TGCC', 'AG\\t2', 'GCAA', '\\nTTA', '\\nGTT', 'AAAT', 'GAAT', '\\tcla', '6\\nGC', 'GGTA', 'TAAG', 'TTCT', 'CGCG', '\\t5\\nG', '6\\nAA', '\\t1\\nG', 'CTTG', '\\t6\\nA', 'sequ', 'AG\\t4', 'GTAG', 'ATAT', '2\\nAT', 'ACTA', 'ss\\nA', 'G\\t3\\n', 'AA\\t2', 'GGGC', '1\\nAT', 'CATA', 'GGCT', 'AA\\t3', '6\\nGT', 'GTAC', '4\\nCT', 'GATG', '0\\nAC', 'GA\\t6', 'TCCT', 'GTCC', 'GGAC', 'CACA', 'GCGT', '\\nCAA', 'TAA\\t', 'CAG\\t', 'GAAA', '\\nGTC', '\\nGGC', '1\\nAC', 'GCAG', 'AGGA', '\\nGCC', '\\nTTG', '\\nGCG', '2\\nGC', 'GCGA', 'CCAA', 'CCCA', 'CCTG', 'AATG', 'GGAG', '2\\nCC']\n",
      "Unique to dog: ['AGC\\t', 'NTTC', 'CTA\\t', 'GC\\t6', 'TCT\\t', 'ACNN', 'CG\\t0', 'NNCT', 'CT\\t6', 'GCG\\t', 'NGCA', 'CA\\t6', 'NCCA', 'GG\\t0', 'CA\\t4', 'TA\\t4', 'TC\\t3', '\\nNTT', 'AC\\t0', 'C\\t2\\n', 'ATA\\t', '5\\nTT', 'NCGT', 'GGT\\t', 'CTG\\t', 'CG\\t6', 'NNCC', 'AGA\\t', 'T\\t4\\n', 'TC\\t5', '0\\nGG', 'ATC\\t', '\\t4\\nN', 'AC\\t6', 'NNGG', 'TG\\t0', 'GGG\\t', 'CCC\\t', 'GCT\\t', '\\nACC', 'ATG\\t', '\\nNNC', '\\nAAC', 'TAT\\t', 'T\\t0\\n', 'TGG\\t', 'TG\\t5', 'NGTG', 'C\\t3\\n', '0\\nCG', 'T\\t2\\n', 'GAA\\t', 'AT\\t3', 'NNNG', 'TNNN', 'ANNN', 'GNAT', 'C\\t5\\n', '\\t6\\nN', 'CNCC', '\\nCGG', '6\\nNT', 'CTC\\t', 'TA\\t6', '0\\nGC', 'ATNN', 'TTGN', 'C\\t0\\n', 'GGA\\t', '5\\nGA', '4\\nCA', 'TTT\\t', 'AANN', 'TA\\t1', 'CGG\\t', 'CNNN', 'AAC\\t', 'CA\\t5', '2\\nTG', 'GAT\\t', '5\\nGT', 'GC\\t0', 'NNCG', 'CC\\t0', '4\\nTG', 'TCNC', 'TA\\t2', '\\nCCA', '\\nCGC', 'CCNG', 'TCC\\t', '3\\nCC', 'CAC\\t', 'NNGC', 'CCT\\t', 'NGTC', 'TG\\t3', 'TCA\\t', '5\\nAC', 'TGT\\t', 'CAAN', 'CCG\\t', '2\\nGG', 'CTGN', 'GT\\t3', 'TGNC', 'GT\\t1', 'AT\\t0', 'AAT\\t', 'TGC\\t', 'NATC', 'CCCN', 'CAA\\t', 'AAG\\t', 'T\\t5\\n', '6\\nTA', '6\\nNN', 'GT\\t6', 'CNGA', '4\\nGC', '0\\nTT', 'CGNA', 'TC\\t2', 'CT\\t2', 'NCCT', 'ACG\\t', 'NGAC', 'GGC\\t', 'NCAG', 'TAC\\t', '4\\nNG', 'TGNN', 'TT\\t2', '\\nNGC', 'AATN', 'GNCC', 'CCGN', 'GTA\\t', 'TTA\\t', 'GTNC', '4\\nNC', 'GAC\\t', 'T\\t6\\n', '\\nNNN', 'CACN', 'AGT\\t', 'AT\\t4', '\\nNCA', 'TG\\t4', 'NN\\t6', 'CGC\\t', 'GGTN', 'NGGG', 'N\\t6\\n', 'GTGN', 'T\\t3\\n', 'CC\\t1', 'TC\\t6', '6\\nCG', 'GT\\t5', 'T\\t1\\n', '3\\nCG', 'CTCN', 'AC\\t5', 'GTG\\t', 'NGCT', '\\nTAC', 'NCCC', 'TG\\t2', 'GTC\\t', 'GC\\t2', 'CT\\t5', 'CCA\\t', 'AT\\t1', 'GAG\\t', 'NNGT', 'TNCC', 'GG\\t1', '0\\nAA', 'AC\\t2', 'C\\t1\\n', 'NCTA', 'CG\\t2', '5\\nCT', 'CGGN', 'GGNN', 'CT\\t0', 'CT\\t1', 'AT\\t6', 'GC\\t5', '\\nTAT', '2\\nTA']\n"
     ]
    }
   ],
   "source": [
    "dog_dna = \"/kaggle/input/dna-sequence-dataset/dog.txt\"\n",
    "\n",
    "dog_kmers = get_kmers1(dna1, k=4)\n",
    "dog_kmer_counts = Counter(kmers_1)\n",
    "\n",
    "chimp_kmer_set = set(kmers_4)\n",
    "dog_kmer_set = set(kmers_1)\n",
    "\n",
    "common_kmers = chimp_kmer_set & dog_kmer_set\n",
    "unique_to_dog = dog_kmer_set - chimp_kmer_set\n",
    "\n",
    "print(\"Common 4-mers:\", list(common_kmers))\n",
    "print(\"Unique to dog:\", list(unique_to_dog))\n"
   ]
  },
  {
   "cell_type": "code",
   "execution_count": null,
   "metadata": {
    "execution": {
     "iopub.execute_input": "2025-05-05T07:10:55.202759Z",
     "iopub.status.busy": "2025-05-05T07:10:55.202477Z",
     "iopub.status.idle": "2025-05-05T07:10:55.463577Z",
     "shell.execute_reply": "2025-05-05T07:10:55.462808Z",
     "shell.execute_reply.started": "2025-05-05T07:10:55.202741Z"
    }
   },
   "outputs": [
    {
     "data": {
      "image/png": "[encoded data removed]",
      "text/plain": [
       "<Figure size 1000x400 with 1 Axes>"
      ]
     },
     "metadata": {},
     "output_type": "display_data"
    }
   ],
   "source": [
    "\n",
    "top_kmers = kmers_counts.most_common(10)\n",
    "labels, values = zip(*top_kmers)\n",
    "\n",
    "plt.figure(figsize=(10, 4))\n",
    "plt.bar(labels, values, color='skyblue')\n",
    "plt.title(\"Top 10 Frequent 4-mers in Chimpanzee DNA\")\n",
    "plt.xlabel(\"4-mer\")\n",
    "plt.ylabel(\"Count\")\n",
    "plt.xticks(rotation=45)\n",
    "plt.tight_layout()\n",
    "plt.show()\n"
   ]
  },
  {
   "cell_type": "code",
   "execution_count": null,
   "metadata": {
    "execution": {
     "iopub.execute_input": "2025-05-05T07:10:55.464631Z",
     "iopub.status.busy": "2025-05-05T07:10:55.464412Z",
     "iopub.status.idle": "2025-05-05T07:10:55.737654Z",
     "shell.execute_reply": "2025-05-05T07:10:55.736839Z",
     "shell.execute_reply.started": "2025-05-05T07:10:55.464615Z"
    }
   },
   "outputs": [
    {
     "data": {
      "image/png": "[encoded data removed]",
      "text/plain": [
       "<Figure size 1000x400 with 1 Axes>"
      ]
     },
     "metadata": {},
     "output_type": "display_data"
    }
   ],
   "source": [
    "\n",
    "top_kmers = kmers_counts1.most_common(10)\n",
    "labels, values = zip(*top_kmers)\n",
    "\n",
    "plt.figure(figsize=(10, 4))\n",
    "plt.bar(labels, values, color='skyblue')\n",
    "plt.title(\"Top 10 Frequent 4-mers in Dog DNA\")\n",
    "plt.xlabel(\"4-mer\")\n",
    "plt.ylabel(\"Count\")\n",
    "plt.xticks(rotation=45)\n",
    "plt.tight_layout()\n",
    "plt.show()\n"
   ]
  },
  {
   "cell_type": "code",
   "execution_count": null,
   "metadata": {
    "execution": {
     "iopub.execute_input": "2025-05-05T07:10:55.738595Z",
     "iopub.status.busy": "2025-05-05T07:10:55.738366Z",
     "iopub.status.idle": "2025-05-05T07:11:05.528625Z",
     "shell.execute_reply": "2025-05-05T07:11:05.528012Z",
     "shell.execute_reply.started": "2025-05-05T07:10:55.738578Z"
    }
   },
   "outputs": [
    {
     "name": "stdout",
     "output_type": "stream",
     "text": [
      "Similarity between chimpanzee and dog sample: 0.02%\n"
     ]
    }
   ],
   "source": [
    "from difflib import SequenceMatcher\n",
    "\n",
    "\n",
    "matcher = SequenceMatcher(None, dna, dna1)\n",
    "similarity = matcher.ratio()\n",
    "print(f\"Similarity between chimpanzee and dog sample: {similarity*100:.2f}%\")\n"
   ]
  },
  {
   "cell_type": "code",
   "execution_count": null,
   "metadata": {
    "execution": {
     "iopub.execute_input": "2025-05-05T07:11:05.529692Z",
     "iopub.status.busy": "2025-05-05T07:11:05.529365Z",
     "iopub.status.idle": "2025-05-05T07:11:05.588403Z",
     "shell.execute_reply": "2025-05-05T07:11:05.587824Z",
     "shell.execute_reply.started": "2025-05-05T07:11:05.529674Z"
    }
   },
   "outputs": [
    {
     "data": {
      "text/html": [
       "<div>\n",
       "<style scoped>\n",
       "    .dataframe tbody tr th:only-of-type {\n",
       "        vertical-align: middle;\n",
       "    }\n",
       "\n",
       "    .dataframe tbody tr th {\n",
       "        vertical-align: top;\n",
       "    }\n",
       "\n",
       "    .dataframe thead th {\n",
       "        text-align: right;\n",
       "    }\n",
       "</style>\n",
       "<table border=\"1\" class=\"dataframe\">\n",
       "  <thead>\n",
       "    <tr style=\"text-align: right;\">\n",
       "      <th></th>\n",
       "      <th>sequence</th>\n",
       "      <th>class</th>\n",
       "    </tr>\n",
       "  </thead>\n",
       "  <tbody>\n",
       "    <tr>\n",
       "      <th>0</th>\n",
       "      <td>ATGCCCCAACTAAATACCGCCGTATGACCCACCATAATTACCCCCA...</td>\n",
       "      <td>4</td>\n",
       "    </tr>\n",
       "    <tr>\n",
       "      <th>1</th>\n",
       "      <td>ATGAACGAAAATCTATTCGCTTCATTCGCTGCCCCCACAATCCTAG...</td>\n",
       "      <td>4</td>\n",
       "    </tr>\n",
       "    <tr>\n",
       "      <th>2</th>\n",
       "      <td>ATGGCCTCGCGCTGGTGGCGGTGGCGACGCGGCTGCTCCTGGAGGC...</td>\n",
       "      <td>4</td>\n",
       "    </tr>\n",
       "    <tr>\n",
       "      <th>3</th>\n",
       "      <td>ATGGCCTCGCGCTGGTGGCGGTGGCGACGCGGCTGCTCCTGGAGGC...</td>\n",
       "      <td>4</td>\n",
       "    </tr>\n",
       "    <tr>\n",
       "      <th>4</th>\n",
       "      <td>ATGGGCAGCGCCAGCCCGGGTCTGAGCAGCGTGTCCCCCAGCCACC...</td>\n",
       "      <td>6</td>\n",
       "    </tr>\n",
       "    <tr>\n",
       "      <th>...</th>\n",
       "      <td>...</td>\n",
       "      <td>...</td>\n",
       "    </tr>\n",
       "    <tr>\n",
       "      <th>1677</th>\n",
       "      <td>ATGCTGAGCGGAGCGGCTGGGGCTGCGCGGCGTGGCGGAGCAGCGC...</td>\n",
       "      <td>5</td>\n",
       "    </tr>\n",
       "    <tr>\n",
       "      <th>1678</th>\n",
       "      <td>ATGCTGAGCGGAGCGGCTGGGGCTGCGCGGCGTGGCGGAGCAGCGC...</td>\n",
       "      <td>5</td>\n",
       "    </tr>\n",
       "    <tr>\n",
       "      <th>1679</th>\n",
       "      <td>ATGAAGCGACCCAAGGAGCCGAGCGGCTCCGACGGGGAGTCCGACG...</td>\n",
       "      <td>6</td>\n",
       "    </tr>\n",
       "    <tr>\n",
       "      <th>1680</th>\n",
       "      <td>ATGACTGGAACCCCAAAGACTCAAGAAGGAGCTAAAGATCTTGAAG...</td>\n",
       "      <td>3</td>\n",
       "    </tr>\n",
       "    <tr>\n",
       "      <th>1681</th>\n",
       "      <td>ATGTTGCCCAGCTGTGGCAAGATCTTGACTGGGTGTAAGAATATGC...</td>\n",
       "      <td>3</td>\n",
       "    </tr>\n",
       "  </tbody>\n",
       "</table>\n",
       "<p>1682 rows × 2 columns</p>\n",
       "</div>"
      ],
      "text/plain": [
       "                                               sequence  class\n",
       "0     ATGCCCCAACTAAATACCGCCGTATGACCCACCATAATTACCCCCA...      4\n",
       "1     ATGAACGAAAATCTATTCGCTTCATTCGCTGCCCCCACAATCCTAG...      4\n",
       "2     ATGGCCTCGCGCTGGTGGCGGTGGCGACGCGGCTGCTCCTGGAGGC...      4\n",
       "3     ATGGCCTCGCGCTGGTGGCGGTGGCGACGCGGCTGCTCCTGGAGGC...      4\n",
       "4     ATGGGCAGCGCCAGCCCGGGTCTGAGCAGCGTGTCCCCCAGCCACC...      6\n",
       "...                                                 ...    ...\n",
       "1677  ATGCTGAGCGGAGCGGCTGGGGCTGCGCGGCGTGGCGGAGCAGCGC...      5\n",
       "1678  ATGCTGAGCGGAGCGGCTGGGGCTGCGCGGCGTGGCGGAGCAGCGC...      5\n",
       "1679  ATGAAGCGACCCAAGGAGCCGAGCGGCTCCGACGGGGAGTCCGACG...      6\n",
       "1680  ATGACTGGAACCCCAAAGACTCAAGAAGGAGCTAAAGATCTTGAAG...      3\n",
       "1681  ATGTTGCCCAGCTGTGGCAAGATCTTGACTGGGTGTAAGAATATGC...      3\n",
       "\n",
       "[1682 rows x 2 columns]"
      ]
     },
     "execution_count": 20,
     "metadata": {},
     "output_type": "execute_result"
    }
   ],
   "source": [
    "data = pd.read_table('../input/dna-sequence-dataset/chimpanzee.txt')\n",
    "data"
   ]
  },
  {
   "cell_type": "code",
   "execution_count": null,
   "metadata": {
    "execution": {
     "iopub.execute_input": "2025-05-05T07:11:05.589272Z",
     "iopub.status.busy": "2025-05-05T07:11:05.589096Z",
     "iopub.status.idle": "2025-05-05T07:11:05.596965Z",
     "shell.execute_reply": "2025-05-05T07:11:05.596225Z",
     "shell.execute_reply.started": "2025-05-05T07:11:05.589259Z"
    }
   },
   "outputs": [
    {
     "data": {
      "text/plain": [
       "class\n",
       "6    521\n",
       "4    261\n",
       "0    234\n",
       "3    228\n",
       "1    185\n",
       "2    144\n",
       "5    109\n",
       "Name: count, dtype: int64"
      ]
     },
     "execution_count": 21,
     "metadata": {},
     "output_type": "execute_result"
    }
   ],
   "source": [
    "data['class'].value_counts()"
   ]
  },
  {
   "cell_type": "code",
   "execution_count": null,
   "metadata": {
    "execution": {
     "iopub.execute_input": "2025-05-05T07:11:05.598059Z",
     "iopub.status.busy": "2025-05-05T07:11:05.597837Z",
     "iopub.status.idle": "2025-05-05T07:11:05.611976Z",
     "shell.execute_reply": "2025-05-05T07:11:05.611399Z",
     "shell.execute_reply.started": "2025-05-05T07:11:05.598044Z"
    }
   },
   "outputs": [
    {
     "data": {
      "text/plain": [
       "'ATGCCCCAACTAAATACCGCCGTATGACCCACCATAATTACCCCCATACTCCTGACACTATTTCTCGTCACCCAACTAAAAATATTAAATTCAAATTACCATCTACCCCCCTCACCAAAACCCATAAAAATAAAAAACTACAATAAACCCTGAGAACCAAAATGAACGAAAATCTATTCGCTTCATTCGCTGCCCCCACAATCCTAG'"
      ]
     },
     "execution_count": 22,
     "metadata": {},
     "output_type": "execute_result"
    }
   ],
   "source": [
    "data.sequence[0]"
   ]
  },
  {
   "cell_type": "markdown",
   "metadata": {},
   "source": [
    "# Kmers"
   ]
  },
  {
   "cell_type": "code",
   "execution_count": null,
   "metadata": {
    "execution": {
     "iopub.execute_input": "2025-05-05T07:11:05.612990Z",
     "iopub.status.busy": "2025-05-05T07:11:05.612724Z",
     "iopub.status.idle": "2025-05-05T07:11:06.700348Z",
     "shell.execute_reply": "2025-05-05T07:11:06.699815Z",
     "shell.execute_reply.started": "2025-05-05T07:11:05.612975Z"
    }
   },
   "outputs": [],
   "source": [
    "def get_kmers(sequence, size=6):\n",
    "    return [''.join(sequence[x:x+size]) for x in range(len(sequence) - size + 1)]\n",
    "\n",
    "data['kmers'] = data['sequence'].apply(lambda x: ' '.join(get_kmers(x)))"
   ]
  },
  {
   "cell_type": "code",
   "execution_count": null,
   "metadata": {
    "execution": {
     "iopub.execute_input": "2025-05-05T07:11:06.701246Z",
     "iopub.status.busy": "2025-05-05T07:11:06.701071Z",
     "iopub.status.idle": "2025-05-05T07:11:06.707502Z",
     "shell.execute_reply": "2025-05-05T07:11:06.706757Z",
     "shell.execute_reply.started": "2025-05-05T07:11:06.701232Z"
    }
   },
   "outputs": [
    {
     "data": {
      "text/plain": [
       "0       ATGCCC TGCCCC GCCCCA CCCCAA CCCAAC CCAACT CAAC...\n",
       "1       ATGAAC TGAACG GAACGA AACGAA ACGAAA CGAAAA GAAA...\n",
       "2       ATGGCC TGGCCT GGCCTC GCCTCG CCTCGC CTCGCG TCGC...\n",
       "3       ATGGCC TGGCCT GGCCTC GCCTCG CCTCGC CTCGCG TCGC...\n",
       "4       ATGGGC TGGGCA GGGCAG GGCAGC GCAGCG CAGCGC AGCG...\n",
       "                              ...                        \n",
       "1677    ATGCTG TGCTGA GCTGAG CTGAGC TGAGCG GAGCGG AGCG...\n",
       "1678    ATGCTG TGCTGA GCTGAG CTGAGC TGAGCG GAGCGG AGCG...\n",
       "1679    ATGAAG TGAAGC GAAGCG AAGCGA AGCGAC GCGACC CGAC...\n",
       "1680    ATGACT TGACTG GACTGG ACTGGA CTGGAA TGGAAC GGAA...\n",
       "1681    ATGTTG TGTTGC GTTGCC TTGCCC TGCCCA GCCCAG CCCA...\n",
       "Name: kmers, Length: 1682, dtype: object"
      ]
     },
     "execution_count": 24,
     "metadata": {},
     "output_type": "execute_result"
    }
   ],
   "source": [
    "data['kmers']"
   ]
  },
  {
   "cell_type": "code",
   "execution_count": null,
   "metadata": {
    "execution": {
     "iopub.execute_input": "2025-05-05T07:11:06.709269Z",
     "iopub.status.busy": "2025-05-05T07:11:06.708423Z",
     "iopub.status.idle": "2025-05-05T07:11:08.461303Z",
     "shell.execute_reply": "2025-05-05T07:11:08.460738Z",
     "shell.execute_reply.started": "2025-05-05T07:11:06.709242Z"
    }
   },
   "outputs": [],
   "source": [
    "from sklearn.model_selection import train_test_split\n",
    "from sklearn.feature_extraction.text import CountVectorizer\n",
    "\n",
    "\n",
    "vectorizer = CountVectorizer()\n",
    "X = vectorizer.fit_transform(data['kmers'])\n",
    "y = data['class']"
   ]
  },
  {
   "cell_type": "code",
   "execution_count": null,
   "metadata": {
    "execution": {
     "iopub.execute_input": "2025-05-05T07:11:08.462278Z",
     "iopub.status.busy": "2025-05-05T07:11:08.462061Z",
     "iopub.status.idle": "2025-05-05T07:11:08.473826Z",
     "shell.execute_reply": "2025-05-05T07:11:08.473053Z",
     "shell.execute_reply.started": "2025-05-05T07:11:08.462262Z"
    }
   },
   "outputs": [],
   "source": [
    "X_train, X_test, y_train, y_test = train_test_split(X, y, test_size=0.2, random_state=42)\n"
   ]
  },
  {
   "cell_type": "markdown",
   "metadata": {},
   "source": [
    "# Random Forest Classifier"
   ]
  },
  {
   "cell_type": "code",
   "execution_count": null,
   "metadata": {
    "execution": {
     "iopub.execute_input": "2025-05-05T07:11:08.477358Z",
     "iopub.status.busy": "2025-05-05T07:11:08.477113Z",
     "iopub.status.idle": "2025-05-05T07:11:12.140231Z",
     "shell.execute_reply": "2025-05-05T07:11:12.139476Z",
     "shell.execute_reply.started": "2025-05-05T07:11:08.477340Z"
    }
   },
   "outputs": [],
   "source": [
    "from sklearn.ensemble import RandomForestClassifier\n",
    "from sklearn.metrics import classification_report\n",
    "\n",
    "model1 = RandomForestClassifier()\n",
    "model1.fit(X_train, y_train)"
   ]
  },
  {
   "cell_type": "code",
   "execution_count": null,
   "metadata": {
    "execution": {
     "iopub.execute_input": "2025-05-05T07:11:12.141122Z",
     "iopub.status.busy": "2025-05-05T07:11:12.140922Z",
     "iopub.status.idle": "2025-05-05T07:11:12.247577Z",
     "shell.execute_reply": "2025-05-05T07:11:12.246775Z",
     "shell.execute_reply.started": "2025-05-05T07:11:12.141107Z"
    }
   },
   "outputs": [
    {
     "name": "stdout",
     "output_type": "stream",
     "text": [
      "Random Forest Report:\n",
      "               precision    recall  f1-score   support\n",
      "\n",
      "           0       0.69      0.79      0.73        28\n",
      "           1       0.97      0.77      0.86        39\n",
      "           2       0.96      0.89      0.92        27\n",
      "           3       1.00      0.84      0.91        43\n",
      "           4       0.88      0.73      0.80        52\n",
      "           5       1.00      0.62      0.77        29\n",
      "           6       0.77      0.98      0.86       119\n",
      "\n",
      "    accuracy                           0.85       337\n",
      "   macro avg       0.90      0.80      0.84       337\n",
      "weighted avg       0.87      0.85      0.84       337\n",
      "\n"
     ]
    }
   ],
   "source": [
    "y_pred = model1.predict(X_test)\n",
    "\n",
    "print(\"Random Forest Report:\\n\", classification_report(y_test, y_pred))\n"
   ]
  },
  {
   "cell_type": "code",
   "execution_count": null,
   "metadata": {},
   "outputs": [],
   "source": [
    "###"
   ]
  },
  {
   "cell_type": "markdown",
   "metadata": {},
   "source": [
    "##  HMM"
   ]
  },
  {
   "cell_type": "code",
   "execution_count": null,
   "metadata": {
    "execution": {
     "iopub.execute_input": "2025-05-05T07:26:34.531399Z",
     "iopub.status.busy": "2025-05-05T07:26:34.530691Z",
     "iopub.status.idle": "2025-05-05T07:26:38.038186Z",
     "shell.execute_reply": "2025-05-05T07:26:38.037404Z",
     "shell.execute_reply.started": "2025-05-05T07:26:34.531373Z"
    }
   },
   "outputs": [
    {
     "name": "stdout",
     "output_type": "stream",
     "text": [
      "Collecting hmmlearn\n",
      "  Downloading hmmlearn-0.3.3-cp311-cp311-manylinux_2_17_x86_64.manylinux2014_x86_64.whl.metadata (3.0 kB)\n",
      "Requirement already satisfied: numpy>=1.10 in /usr/local/lib/python3.11/dist-packages (from hmmlearn) (1.26.4)\n",
      "Requirement already satisfied: scikit-learn!=0.22.0,>=0.16 in /usr/local/lib/python3.11/dist-packages (from hmmlearn) (1.2.2)\n",
      "Requirement already satisfied: scipy>=0.19 in /usr/local/lib/python3.11/dist-packages (from hmmlearn) (1.15.2)\n",
      "Requirement already satisfied: mkl_fft in /usr/local/lib/python3.11/dist-packages (from numpy>=1.10->hmmlearn) (1.3.8)\n",
      "Requirement already satisfied: mkl_random in /usr/local/lib/python3.11/dist-packages (from numpy>=1.10->hmmlearn) (1.2.4)\n",
      "Requirement already satisfied: mkl_umath in /usr/local/lib/python3.11/dist-packages (from numpy>=1.10->hmmlearn) (0.1.1)\n",
      "Requirement already satisfied: mkl in /usr/local/lib/python3.11/dist-packages (from numpy>=1.10->hmmlearn) (2025.1.0)\n",
      "Requirement already satisfied: tbb4py in /usr/local/lib/python3.11/dist-packages (from numpy>=1.10->hmmlearn) (2022.1.0)\n",
      "Requirement already satisfied: mkl-service in /usr/local/lib/python3.11/dist-packages (from numpy>=1.10->hmmlearn) (2.4.1)\n",
      "Requirement already satisfied: joblib>=1.1.1 in /usr/local/lib/python3.11/dist-packages (from scikit-learn!=0.22.0,>=0.16->hmmlearn) (1.4.2)\n",
      "Requirement already satisfied: threadpoolctl>=2.0.0 in /usr/local/lib/python3.11/dist-packages (from scikit-learn!=0.22.0,>=0.16->hmmlearn) (3.6.0)\n",
      "Requirement already satisfied: intel-openmp<2026,>=2024 in /usr/local/lib/python3.11/dist-packages (from mkl->numpy>=1.10->hmmlearn) (2024.2.0)\n",
      "Requirement already satisfied: tbb==2022.* in /usr/local/lib/python3.11/dist-packages (from mkl->numpy>=1.10->hmmlearn) (2022.1.0)\n",
      "Requirement already satisfied: tcmlib==1.* in /usr/local/lib/python3.11/dist-packages (from tbb==2022.*->mkl->numpy>=1.10->hmmlearn) (1.2.0)\n",
      "Requirement already satisfied: intel-cmplr-lib-rt in /usr/local/lib/python3.11/dist-packages (from mkl_umath->numpy>=1.10->hmmlearn) (2024.2.0)\n",
      "Requirement already satisfied: intel-cmplr-lib-ur==2024.2.0 in /usr/local/lib/python3.11/dist-packages (from intel-openmp<2026,>=2024->mkl->numpy>=1.10->hmmlearn) (2024.2.0)\n",
      "Downloading hmmlearn-0.3.3-cp311-cp311-manylinux_2_17_x86_64.manylinux2014_x86_64.whl (165 kB)\n",
      "\u001b[2K   \u001b[90m━━━━━━━━━━━━━━━━━━━━━━━━━━━━━━━━━━━━━━━━\u001b[0m \u001b[32m165.9/165.9 kB\u001b[0m \u001b[31m4.3 MB/s\u001b[0m eta \u001b[36m0:00:00\u001b[0m00:01\u001b[0m\n",
      "\u001b[?25hInstalling collected packages: hmmlearn\n",
      "Successfully installed hmmlearn-0.3.3\n"
     ]
    }
   ],
   "source": [
    "# Install required packages\n",
    "!pip install hmmlearn"
   ]
  },
  {
   "cell_type": "code",
   "execution_count": 41,
   "metadata": {
    "execution": {
     "iopub.execute_input": "2025-05-05T07:26:44.426061Z",
     "iopub.status.busy": "2025-05-05T07:26:44.425778Z",
     "iopub.status.idle": "2025-05-05T08:21:25.713601Z",
     "shell.execute_reply": "2025-05-05T08:21:25.712892Z",
     "shell.execute_reply.started": "2025-05-05T07:26:44.426038Z"
    }
   },
   "outputs": [
    {
     "name": "stdout",
     "output_type": "stream",
     "text": [
      "Human Data Head:\n",
      "                                            sequence  class\n",
      "0  ATGCCCCAACTAAATACTACCGTATGGCCCACCATAATTACCCCCA...      4\n",
      "1  ATGAACGAAAATCTGTTCGCTTCATTCATTGCCCCCACAATCCTAG...      4\n",
      "2  ATGTGTGGCATTTGGGCGCTGTTTGGCAGTGATGATTGCCTTTCTG...      3\n",
      "3  ATGTGTGGCATTTGGGCGCTGTTTGGCAGTGATGATTGCCTTTCTG...      3\n",
      "4  ATGCAACAGCATTTTGAATTTGAATACCAGACCAAAGTGGATGGTG...      3\n",
      "\n",
      "Human Data Info:\n",
      "<class 'pandas.core.frame.DataFrame'>\n",
      "RangeIndex: 4380 entries, 0 to 4379\n",
      "Data columns (total 2 columns):\n",
      " #   Column    Non-Null Count  Dtype \n",
      "---  ------    --------------  ----- \n",
      " 0   sequence  4380 non-null   object\n",
      " 1   class     4380 non-null   int64 \n",
      "dtypes: int64(1), object(1)\n",
      "memory usage: 68.6+ KB\n",
      "\n",
      "Dog Data Head:\n",
      "                                            sequence  class\n",
      "0  ATGCCACAGCTAGATACATCCACCTGATTTATTATAATCTTTTCAA...      4\n",
      "1  ATGAACGAAAATCTATTCGCTTCTTTCGCTGCCCCCTCAATAATAG...      4\n",
      "2  ATGGAAACACCCTTCTACGGCGATGAGGCGCTGAGCGGCCTGGGCG...      6\n",
      "3  ATGTGCACTAAAATGGAACAGCCCTTCTACCACGACGACTCATACG...      6\n",
      "4  ATGAGCCGGCAGCTAAACAGAAGCCAGAACTGCTCCTTCAGTGACG...      0\n",
      "\n",
      "Dog Data Info:\n",
      "<class 'pandas.core.frame.DataFrame'>\n",
      "RangeIndex: 820 entries, 0 to 819\n",
      "Data columns (total 2 columns):\n",
      " #   Column    Non-Null Count  Dtype \n",
      "---  ------    --------------  ----- \n",
      " 0   sequence  820 non-null    object\n",
      " 1   class     820 non-null    int64 \n",
      "dtypes: int64(1), object(1)\n",
      "memory usage: 12.9+ KB\n",
      "\n",
      "Chimpanzee Data Head:\n",
      "                                            sequence  class\n",
      "0  ATGCCCCAACTAAATACCGCCGTATGACCCACCATAATTACCCCCA...      4\n",
      "1  ATGAACGAAAATCTATTCGCTTCATTCGCTGCCCCCACAATCCTAG...      4\n",
      "2  ATGGCCTCGCGCTGGTGGCGGTGGCGACGCGGCTGCTCCTGGAGGC...      4\n",
      "3  ATGGCCTCGCGCTGGTGGCGGTGGCGACGCGGCTGCTCCTGGAGGC...      4\n",
      "4  ATGGGCAGCGCCAGCCCGGGTCTGAGCAGCGTGTCCCCCAGCCACC...      6\n",
      "\n",
      "Chimpanzee Data Info:\n",
      "<class 'pandas.core.frame.DataFrame'>\n",
      "RangeIndex: 1682 entries, 0 to 1681\n",
      "Data columns (total 2 columns):\n",
      " #   Column    Non-Null Count  Dtype \n",
      "---  ------    --------------  ----- \n",
      " 0   sequence  1682 non-null   object\n",
      " 1   class     1682 non-null   int64 \n",
      "dtypes: int64(1), object(1)\n",
      "memory usage: 26.4+ KB\n"
     ]
    },
    {
     "name": "stderr",
     "output_type": "stream",
     "text": [
      "/usr/local/lib/python3.11/dist-packages/hmmlearn/hmm.py:314: ConvergenceWarning: Number of distinct clusters (4) found smaller than n_clusters (5). Possibly due to duplicate points in X.\n",
      "  kmeans.fit(X)\n",
      "/usr/local/lib/python3.11/dist-packages/hmmlearn/hmm.py:314: ConvergenceWarning: Number of distinct clusters (4) found smaller than n_clusters (5). Possibly due to duplicate points in X.\n",
      "  kmeans.fit(X)\n",
      "/usr/local/lib/python3.11/dist-packages/hmmlearn/hmm.py:314: ConvergenceWarning: Number of distinct clusters (4) found smaller than n_clusters (5). Possibly due to duplicate points in X.\n",
      "  kmeans.fit(X)\n",
      "/usr/local/lib/python3.11/dist-packages/hmmlearn/hmm.py:314: ConvergenceWarning: Number of distinct clusters (4) found smaller than n_clusters (5). Possibly due to duplicate points in X.\n",
      "  kmeans.fit(X)\n",
      "/usr/local/lib/python3.11/dist-packages/hmmlearn/hmm.py:314: ConvergenceWarning: Number of distinct clusters (4) found smaller than n_clusters (5). Possibly due to duplicate points in X.\n",
      "  kmeans.fit(X)\n",
      "/usr/local/lib/python3.11/dist-packages/hmmlearn/hmm.py:314: ConvergenceWarning: Number of distinct clusters (4) found smaller than n_clusters (5). Possibly due to duplicate points in X.\n",
      "  kmeans.fit(X)\n",
      "/usr/local/lib/python3.11/dist-packages/hmmlearn/hmm.py:314: ConvergenceWarning: Number of distinct clusters (4) found smaller than n_clusters (5). Possibly due to duplicate points in X.\n",
      "  kmeans.fit(X)\n"
     ]
    },
    {
     "name": "stdout",
     "output_type": "stream",
     "text": [
      "HMM Accuracy: 0.3086\n",
      "HMM Classification Report:\n",
      "              precision    recall  f1-score   support\n",
      "\n",
      "           0       0.00      0.00      0.00       179\n",
      "           1       0.00      0.00      0.00       159\n",
      "           2       0.00      0.00      0.00       111\n",
      "           3       0.00      0.00      0.00       199\n",
      "           4       0.00      0.00      0.00       222\n",
      "           5       0.00      0.00      0.00        82\n",
      "           6       0.31      1.00      0.47       425\n",
      "\n",
      "    accuracy                           0.31      1377\n",
      "   macro avg       0.04      0.14      0.07      1377\n",
      "weighted avg       0.10      0.31      0.15      1377\n",
      "\n"
     ]
    },
    {
     "name": "stderr",
     "output_type": "stream",
     "text": [
      "/usr/local/lib/python3.11/dist-packages/sklearn/metrics/_classification.py:1344: UndefinedMetricWarning: Precision and F-score are ill-defined and being set to 0.0 in labels with no predicted samples. Use `zero_division` parameter to control this behavior.\n",
      "  _warn_prf(average, modifier, msg_start, len(result))\n",
      "/usr/local/lib/python3.11/dist-packages/sklearn/metrics/_classification.py:1344: UndefinedMetricWarning: Precision and F-score are ill-defined and being set to 0.0 in labels with no predicted samples. Use `zero_division` parameter to control this behavior.\n",
      "  _warn_prf(average, modifier, msg_start, len(result))\n",
      "/usr/local/lib/python3.11/dist-packages/sklearn/metrics/_classification.py:1344: UndefinedMetricWarning: Precision and F-score are ill-defined and being set to 0.0 in labels with no predicted samples. Use `zero_division` parameter to control this behavior.\n",
      "  _warn_prf(average, modifier, msg_start, len(result))\n"
     ]
    }
   ],
   "source": [
    "import numpy as np\n",
    "import pandas as pd\n",
    "from sklearn.model_selection import train_test_split\n",
    "from sklearn.preprocessing import LabelEncoder\n",
    "from tensorflow.keras.preprocessing.sequence import pad_sequences\n",
    "from hmmlearn import hmm  # For HMM\n",
    "\n",
    "# Define the paths to the data files\n",
    "human_data_path = '/kaggle/input/dna-sequence-dataset/human.txt'\n",
    "dog_data_path = '/kaggle/input/dna-sequence-dataset/dog.txt'\n",
    "chimpanzee_data_path = '/kaggle/input/dna-sequence-dataset/chimpanzee.txt'\n",
    "\n",
    "# Load the data\n",
    "def load_data(file_path):\n",
    "    try:\n",
    "        df = pd.read_csv(file_path, sep='\\t', header=0)\n",
    "        return df\n",
    "    except Exception as e:\n",
    "        print(f\"Error loading file {file_path}: {e}\")\n",
    "        return None\n",
    "\n",
    "human_data = load_data(human_data_path)\n",
    "dog_data = load_data(dog_data_path)\n",
    "chimpanzee_data = load_data(chimpanzee_data_path)\n",
    "\n",
    "# Check if dataframes are loaded properly before proceeding\n",
    "if human_data is None or dog_data is None or chimpanzee_data is None:\n",
    "    exit()  # Stop execution if any dataframe failed to load\n",
    "\n",
    "\n",
    "# Display the first few rows of each DataFrame and their info\n",
    "print(\"Human Data Head:\")\n",
    "print(human_data.head())\n",
    "print(\"\\nHuman Data Info:\")\n",
    "human_data.info()\n",
    "\n",
    "print(\"\\nDog Data Head:\")\n",
    "print(dog_data.head())\n",
    "print(\"\\nDog Data Info:\")\n",
    "dog_data.info()\n",
    "\n",
    "print(\"\\nChimpanzee Data Head:\")\n",
    "print(chimpanzee_data.head())\n",
    "print(\"\\nChimpanzee Data Info:\")\n",
    "chimpanzee_data.info()\n",
    "\n",
    "# Function to convert sequence to numerical values\n",
    "def sequence_to_numerical(sequence):\n",
    "    sequence = sequence.upper()  # Ensure all bases are uppercase\n",
    "    mapping = {'A': 0, 'T': 1, 'G': 2, 'C': 3}\n",
    "    numerical_sequence = [mapping.get(base, 0) for base in sequence]  # Map unknown bases to 0\n",
    "    return numerical_sequence\n",
    "\n",
    "# Apply the conversion to the 'sequence' column for each DataFrame\n",
    "human_data['numerical_sequence'] = human_data['sequence'].apply(sequence_to_numerical)\n",
    "dog_data['numerical_sequence'] = dog_data['sequence'].apply(sequence_to_numerical)\n",
    "chimpanzee_data['numerical_sequence'] = chimpanzee_data['sequence'].apply(sequence_to_numerical)\n",
    "\n",
    "# Pad sequences to a maximum length\n",
    "max_len = max(human_data['numerical_sequence'].apply(len).max(),\n",
    "              dog_data['numerical_sequence'].apply(len).max(),\n",
    "              chimpanzee_data['numerical_sequence'].apply(len).max())\n",
    "\n",
    "# Pad sequences to the maximum length\n",
    "human_data['padded_sequence'] = pad_sequences(human_data['numerical_sequence'], maxlen=max_len, padding='post').tolist()\n",
    "dog_data['padded_sequence'] = pad_sequences(dog_data['numerical_sequence'], maxlen=max_len, padding='post').tolist()\n",
    "chimpanzee_data['padded_sequence'] = pad_sequences(chimpanzee_data['numerical_sequence'], maxlen=max_len, padding='post').tolist()\n",
    "\n",
    "\n",
    "# Prepare data for modeling\n",
    "X_human = np.array(human_data['padded_sequence'].tolist())\n",
    "y_human = human_data['class']\n",
    "\n",
    "X_dog = np.array(dog_data['padded_sequence'].tolist())\n",
    "y_dog = dog_data['class']\n",
    "\n",
    "X_chimp = np.array(chimpanzee_data['padded_sequence'].tolist())\n",
    "y_chimp = chimpanzee_data['class']\n",
    "\n",
    "# Concatenate the data\n",
    "X = np.concatenate((X_human, X_dog, X_chimp), axis=0)\n",
    "y = np.concatenate((y_human, y_dog, y_chimp), axis=0)\n",
    "\n",
    "# Encode the class labels\n",
    "label_encoder = LabelEncoder()\n",
    "y = label_encoder.fit_transform(y)\n",
    "\n",
    "# Split the data into training and testing sets\n",
    "X_train, X_test, y_train, y_test = train_test_split(X, y, test_size=0.2, random_state=42, stratify=y)\n",
    "\n",
    "# --- HMM CLASSIFICATION ---\n",
    "\n",
    "# Function to train HMM for each class\n",
    "def train_hmm_for_class(X, y, class_label, n_components=5):  # n_components is a hyperparameter\n",
    "    class_data = X[y == class_label]\n",
    "    lengths = [len(seq) for seq in class_data]  # Lengths of individual sequences\n",
    "    flat_class_data = np.concatenate(class_data)\n",
    "    model = hmm.GaussianHMM(n_components=n_components, covariance_type=\"full\", random_state=42)\n",
    "    model.fit(flat_class_data.reshape(-1, 1), lengths=lengths)  # Reshape for hmmlearn\n",
    "    return model\n",
    "\n",
    "# Train HMM for each class\n",
    "hmms = {}\n",
    "for class_label in np.unique(y_train):\n",
    "    hmms[class_label] = train_hmm_for_class(X_train, y_train, class_label)\n",
    "\n",
    "# Function to predict class for a sequence\n",
    "def predict_with_hmms(sequence, hmms):\n",
    "    sequence = np.array(sequence).reshape(-1, 1)  # Reshape for hmmlearn\n",
    "    best_class = None\n",
    "    best_score = float('-inf')\n",
    "    for class_label, model in hmms.items():\n",
    "        score = model.score(sequence)\n",
    "        if score > best_score:\n",
    "            best_score = score\n",
    "            best_class = class_label\n",
    "    return best_class\n",
    "\n",
    "# Make predictions on the test set\n",
    "y_pred_hmm = [predict_with_hmms(seq, hmms) for seq in X_test]\n",
    "\n",
    "# Evaluate the HMM classifier\n",
    "accuracy_hmm = accuracy_score(y_test, y_pred_hmm)\n",
    "print(f\"HMM Accuracy: {accuracy_hmm:.4f}\")\n",
    "\n",
    "from sklearn.metrics import classification_report\n",
    "\n",
    "print(\"HMM Classification Report:\")\n",
    "print(classification_report(y_test, y_pred_hmm, target_names=[str(label) for label in label_encoder.classes_]))"
   ]
  }
 ],
 "metadata": {
  "kaggle": {
   "accelerator": "gpu",
   "dataSources": [
    {
     "datasetId": 1099198,
     "sourceId": 1848242,
     "sourceType": "datasetVersion"
    }
   ],
   "dockerImageVersionId": 31011,
   "isGpuEnabled": true,
   "isInternetEnabled": true,
   "language": "python",
   "sourceType": "notebook"
  },
  "kernelspec": {
   "display_name": "Python 3 (ipykernel)",
   "language": "python",
   "name": "python3"
  },
  "language_info": {
   "codemirror_mode": {
    "name": "ipython",
    "version": 3
   },
   "file_extension": ".py",
   "mimetype": "text/x-python",
   "name": "python",
   "nbconvert_exporter": "python",
   "pygments_lexer": "ipython3",
   "version": "3.13.2"
  }
 },
 "nbformat": 4,
 "nbformat_minor": 4
}
